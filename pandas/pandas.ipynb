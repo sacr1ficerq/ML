{
  "cells": [
    {
      "cell_type": "markdown",
      "metadata": {
        "id": "HcF9My_FhLuk"
      },
      "source": [
        "## Машинное обучение 1, ПМИ ФКН ВШЭ\n",
        "\n",
        "## Практическое домашнее задание 1\n",
        "\n",
        "### Общая информация\n",
        "\n",
        "Дата выдачи: 25.09.2024\n",
        "\n",
        "Мягкий дедлайн: 23:59MSK 06.10.2024\n",
        "\n",
        "Жесткий дедлайн: 23:59MSK 10.10.2024"
      ]
    },
    {
      "cell_type": "markdown",
      "metadata": {
        "id": "G64TptyJhLuo"
      },
      "source": [
        "### О задании\n",
        "\n",
        "Задание состоит из двух разделов, посвященных работе с табличными данными с помощью библиотеки `pandas` и визуализации с помощью `matplotlib`. В первом разделе вам предстоит выполнить базовые задания с помощью вышеуказанных библиотек, а во втором распределить студентов по курсам. Баллы даются за выполнение отдельных пунктов. Задачи в рамках одного раздела рекомендуется решать в том порядке, в котором они даны в задании.\n",
        "\n",
        "Задание направлено на освоение jupyter notebook (будет использоваться в дальнейших заданиях), библиотек pandas и matplotlib.\n",
        "\n",
        "### Оценивание и штрафы\n",
        "Каждая из задач имеет определенную «стоимость» (указана в скобках около задачи). Максимально допустимая оценка за работу — 10 баллов без учёта бонусов. Сдавать задание после жёсткого дедлайна нельзя.\n",
        "\n",
        "Задание выполняется самостоятельно. «Похожие» решения считаются плагиатом и все задействованные студенты (в том числе те, у кого списали) не могут получить за него больше 0 баллов (подробнее о плагиате см. на странице курса). Если вы нашли решение какого-то из заданий (или его часть) в открытом источнике, необходимо указать ссылку на этот источник (скорее всего вы будете не единственным, кто это нашел, поэтому чтобы исключить подозрение в плагиате, необходима ссылка на источник).\n",
        "\n",
        "### Формат сдачи\n",
        "Задания сдаются через систему Anytask. Инвайт можно получить у семинариста или ассистента. Присылать необходимо ноутбук с выполненным заданием. Сам ноутбук называйте в формате `homework-practice-01-pandas-Username.ipynb`, где Username — ваша фамилия.\n",
        "\n",
        "Для удобства проверки самостоятельно посчитайте свою максимальную оценку (исходя из набора решенных задач) и укажите ниже.\n",
        "\n",
        "Оценка: 10."
      ]
    },
    {
      "cell_type": "markdown",
      "metadata": {
        "id": "BaXlfHE_hLup"
      },
      "source": [
        "## 0. Введение"
      ]
    },
    {
      "cell_type": "markdown",
      "metadata": {
        "id": "wirAvJNxhLup"
      },
      "source": [
        "Сейчас мы находимся в jupyter-ноутбуке (или ipython-ноутбуке). Это удобная среда для написания кода, проведения экспериментов, изучения данных, построения визуализаций и других нужд, не связанных с написанием production-кода.\n",
        "\n",
        "Ноутбук состоит из ячеек, каждая из которых может быть либо ячейкой с кодом, либо ячейкой с текстом размеченным и неразмеченным. Текст поддерживает markdown-разметку и формулы в Latex.\n",
        "\n",
        "Для работы с содержимым ячейки используется *режим редактирования* (*Edit mode*, включается нажатием клавиши **Enter** после выбора ячейки), а для навигации между ячейками искользуется *командный режим* (*Command mode*, включается нажатием клавиши **Esc**). Тип ячейки можно задать в командном режиме либо с помощью горячих клавиш (**y** to code, **m** to markdown, **r** to edit raw text), либо в меню *Cell -> Cell type*.\n",
        "\n",
        "После заполнения ячейки нужно нажать *Shift + Enter*, эта команда обработает содержимое ячейки: проинтерпретирует код или сверстает размеченный текст."
      ]
    },
    {
      "cell_type": "markdown",
      "metadata": {
        "id": "iWs6ljrIhLus"
      },
      "source": [
        "[Здесь](https://athena.brynmawr.edu/jupyter/hub/dblank/public/Jupyter%20Notebook%20Users%20Manual.ipynb) находится <s>не</s>большая заметка о используемом языке разметки Markdown. Он позволяет:\n",
        "\n",
        "0. Составлять упорядоченные списки\n",
        "1. Выделять *текст* <s>при</s> **необходимости**\n",
        "2. Добавлять [ссылки](http://imgs.xkcd.com/comics/the_universal_label.png)\n",
        "\n",
        "\n",
        "* Составлять неупорядоченные списки\n",
        "\n",
        "Делать вставки с помощью LaTex:\n",
        "    \n",
        "$\n",
        "\\left\\{\n",
        "\\begin{array}{ll}\n",
        "x = 16 \\sin^3 (t) \\\\\n",
        "y = 13 \\cos (t) - 5 \\cos (2t) - 2 \\cos (3t) - \\cos (4t) \\\\\n",
        "t \\in [0, 2 \\pi]\n",
        "\\end{array}\n",
        "\\right.$"
      ]
    },
    {
      "cell_type": "markdown",
      "metadata": {
        "id": "6fmTGcXOhLus"
      },
      "source": [
        "А ещё можно вставлять картинки, или гифки, или что захотите:\n",
        "\n",
        "<img src=\"https://media1.tenor.com/images/9b8fbe9214504bcf6c60fe4e4f7e114e/tenor.gif?itemid=5416416\" style=\"width: 400px\">"
      ]
    },
    {
      "cell_type": "markdown",
      "metadata": {
        "id": "J_toGw7DhLut"
      },
      "source": [
        "### Google Colab"
      ]
    },
    {
      "cell_type": "markdown",
      "metadata": {
        "id": "jpkbCVjGhLut"
      },
      "source": [
        "Что за колаб?\n",
        "\n",
        "**Google Colab (Colaboratory)** это **Jupyter Notebook + Cloud + Google Drive.**\n",
        "\n",
        "Компания Google предоставляет возможность бесплатно запускать ноутбуки (предварительно загрузив их на свой гугл-диск) прямо в облаке. При этом вам не требуется установка никаких пакетов на свою машину, а работать можно прямиком из браузера. Вот ссылка:"
      ]
    },
    {
      "cell_type": "markdown",
      "metadata": {
        "id": "06MQog3yhLut"
      },
      "source": [
        "https://colab.research.google.com"
      ]
    },
    {
      "cell_type": "markdown",
      "metadata": {
        "id": "5_hfWXKPhLut"
      },
      "source": [
        "При использовании вы увидите много сходств с jupyter ноутбуком. Одним из преимуществ является доступность GPU, соответствующую опцию можно активировать в настройках сервиса. При желании вы сможете найти в интернете много туториалов по использованию или разобраться самостоятельно"
      ]
    },
    {
      "cell_type": "markdown",
      "metadata": {
        "id": "DcRcwHpG8pxB"
      },
      "source": [
        "### Kaggle\n",
        "\n",
        "Альтернативой является **Kaggle**, он же площадка для самых разных соревнований по машинному обучению\n",
        "\n",
        "Он, как и колаб, предоставляет бесплатный GPU, и даже не один, с чётким лимитом в 30 часов в неделю (colab может его внезапно отобрать, kaggle - нет) более мощные CPU с большим числом ядер, и больше Гб ОЗУ (раз так в 2.5)\n",
        "\n",
        "https://www.kaggle.com\n",
        "\n",
        "К сожалению мир не идеален, недостатки следующие:\n",
        "- необходимость загружать датасеты через специальную кнопочку\n",
        "- невозможность использовать свои скрипты и модули :(\n",
        "- нужно тыкать техподдержку, чтобы создать аккаунт из России"
      ]
    },
    {
      "cell_type": "markdown",
      "metadata": {
        "id": "sUe2vnFGhLuu"
      },
      "source": [
        "## 1. Табличные данные и Pandas"
      ]
    },
    {
      "cell_type": "markdown",
      "metadata": {
        "id": "DJQzjjqJhLuu"
      },
      "source": [
        "Pandas — удобная библиотека для работы с табличными данными в Python, если данных не слишком много и они помещаются в оперативную память вашего компьютера. Несмотря на неэффективность реализации и некоторые проблемы, библиотека стала стандартом в анализе данных.\n",
        "\n",
        "Основной объект в `pandas` — это `pd.DataFrame`, представляющий собой таблицу с именованными колонками различных типов, индексом (может быть многоуровневым). DataFrame можно создавать, считывая таблицу из файла или задавая вручную из других объектов.\n",
        "\n",
        "В этой части потребуется выполнить несколько небольших заданий. Можно пойти двумя путями: сначала изучить материалы, а потом приступить к заданиям, или же разбираться \"по ходу\". Выбирайте сами.\n",
        "\n",
        "Материалы:\n",
        "1. [Pandas за 10 минут из официального руководства](http://pandas.pydata.org/pandas-docs/stable/10min.html)\n",
        "2. [Документация](http://pandas.pydata.org/pandas-docs/stable/index.html) (стоит обращаться, если не понятно, как вызывать конкретный метод)\n",
        "3. [Примеры использования функционала](http://nbviewer.jupyter.org/github/justmarkham/pandas-videos/blob/master/pandas.ipynb)\n",
        "\n",
        "Многие из заданий можно выполнить несколькими способами. Не существуют единственно верного, но попробуйте максимально задействовать арсенал pandas и ориентируйтесь на простоту и понятность вашего кода. Мы не будем подсказывать, что нужно использовать для решения конкретной задачи, попробуйте находить необходимый функционал сами (название метода чаще всего очевидно). В помощь вам документация, поиск и StackOverflow."
      ]
    },
    {
      "cell_type": "code",
      "execution_count": 2260,
      "metadata": {
        "colab": {
          "base_uri": "https://localhost:8080/"
        },
        "id": "26zbFY25hLuv",
        "outputId": "18438def-54af-480d-949a-c89c16b79088"
      },
      "outputs": [
        {
          "name": "stdout",
          "output_type": "stream",
          "text": [
            "%pylab is deprecated, use %matplotlib inline and import the required libraries.\n",
            "Populating the interactive namespace from numpy and matplotlib\n"
          ]
        }
      ],
      "source": [
        "%pylab inline\n",
        "import pandas as pd"
      ]
    },
    {
      "cell_type": "markdown",
      "metadata": {
        "id": "QZmj3q3c8A8c"
      },
      "source": [
        "<span style=\"color:red\">Перед выполнением задания необходимо ознакомиться с первым семинаром (seminars/sem01-pandas.ipynb) </span>.\n",
        "\n",
        "Это поможет вам получить общее понимание происходяшего и успешнее справиться с заданием.\n",
        "\n",
        "Также успешному выполнению способствует внимательное чтение текста задания от начала до конца.\n",
        "\n",
        "Удачи!"
      ]
    },
    {
      "cell_type": "markdown",
      "metadata": {
        "id": "dneJl9TyhLuv"
      },
      "source": [
        "Скачаем подготовленные на семинаре данные:"
      ]
    },
    {
      "cell_type": "code",
      "execution_count": 2261,
      "metadata": {
        "id": "rj_I0RslhLuw"
      },
      "outputs": [],
      "source": [
        "!wget -O 'end_seminar.xlsx' -q 'https://www.dropbox.com/s/f4rm8sjc3v99p0m/_end_seminar.xlsx?dl=0'"
      ]
    },
    {
      "cell_type": "markdown",
      "metadata": {
        "id": "5hp7bn_ThLuw"
      },
      "source": [
        "Для пользователей Windows: скачайте файл самостоятельно и поместите его в папку с тетрадкой. Или попробуйте один из следующих вариантов:"
      ]
    },
    {
      "cell_type": "code",
      "execution_count": 2262,
      "metadata": {
        "id": "4h4_BaX8hLuw"
      },
      "outputs": [],
      "source": [
        "# !powershell iwr -outf somefile https://somesite/somefile"
      ]
    },
    {
      "cell_type": "code",
      "execution_count": 2263,
      "metadata": {
        "id": "7bHroLGChLuw"
      },
      "outputs": [],
      "source": [
        "# !pip install wget\n",
        "# import wget\n",
        "# wget.download('https://dropbox.com/s/f4rm8sjc3v99p0m/_end_seminar.xlsx?dl=1', 'end_seminar.xlsx')"
      ]
    },
    {
      "cell_type": "markdown",
      "metadata": {
        "id": "VFs_6IythLux"
      },
      "source": [
        "##### В первой части задания (до раздела \"Распределение студентов по курсам\") использование циклов запрещается и повлечет за собой снижение оценки. Использование <code>vectorize</code> и  <code>apply</code>, <code>apply_along_axis</code> и всего, где можно применить лямбда-функции (`assign`, `map`, ...) крайне нежелательно"
      ]
    },
    {
      "cell_type": "markdown",
      "metadata": {
        "id": "shFkfJkohLux"
      },
      "source": [
        "Для каждой задачи из этого раздела вы должны написать код для получения ответа, а также дать текстовый ответ, если он предполагается.\n",
        "\n",
        "На некоторые вопросы вы можете получить путём пристального взгляда на таблицу, но это не будет засчитываться. Вы в любом случае должны получить ответ с помощью кода."
      ]
    },
    {
      "cell_type": "markdown",
      "metadata": {
        "id": "gDD85M7bhLux"
      },
      "source": [
        "#### 1. [0.5 баллов] Откройте файл с таблицей (не забудьте про её формат). Выведите 3 последних строки.\n",
        "\n",
        "Посмотрите на данные и скажите, что они из себя представляют, сколько в таблице строк, какие столбцы? (на это не надо отвечать, просто подумайте об этом)"
      ]
    },
    {
      "cell_type": "code",
      "execution_count": 2264,
      "metadata": {
        "id": "PKulur3LhLuy"
      },
      "outputs": [],
      "source": [
        "df = pd.read_excel('end_seminar.xlsx')"
      ]
    },
    {
      "cell_type": "code",
      "execution_count": 2265,
      "metadata": {},
      "outputs": [
        {
          "data": {
            "text/html": [
              "<div>\n",
              "<style scoped>\n",
              "    .dataframe tbody tr th:only-of-type {\n",
              "        vertical-align: middle;\n",
              "    }\n",
              "\n",
              "    .dataframe tbody tr th {\n",
              "        vertical-align: top;\n",
              "    }\n",
              "\n",
              "    .dataframe thead th {\n",
              "        text-align: right;\n",
              "    }\n",
              "</style>\n",
              "<table border=\"1\" class=\"dataframe\">\n",
              "  <thead>\n",
              "    <tr style=\"text-align: right;\">\n",
              "      <th></th>\n",
              "      <th>timestamp</th>\n",
              "      <th>id</th>\n",
              "      <th>rating</th>\n",
              "      <th>18_group</th>\n",
              "      <th>is_mi</th>\n",
              "      <th>fall_1</th>\n",
              "      <th>fall_2</th>\n",
              "      <th>fall_3</th>\n",
              "      <th>spring_1</th>\n",
              "      <th>spring_2</th>\n",
              "      <th>spring_3</th>\n",
              "      <th>is_first_time</th>\n",
              "      <th>percentile</th>\n",
              "      <th>17_group</th>\n",
              "      <th>blended</th>\n",
              "      <th>is_ml_student</th>\n",
              "    </tr>\n",
              "  </thead>\n",
              "  <tbody>\n",
              "    <tr>\n",
              "      <th>358</th>\n",
              "      <td>2020-05-20 11:54:38.318</td>\n",
              "      <td>d7118b44c7e8fdbbaaca226d2da6fef1</td>\n",
              "      <td>1111</td>\n",
              "      <td>NaN</td>\n",
              "      <td>NaN</td>\n",
              "      <td>Сбор и обработка данных с помощью краудсорсинга</td>\n",
              "      <td>Statistical Learning Theory</td>\n",
              "      <td>Анализ неструктурированных данных</td>\n",
              "      <td>Проектирование и разработка высоконагруженных ...</td>\n",
              "      <td>Методы сжатия и передачи медиаданных</td>\n",
              "      <td>Численные методы</td>\n",
              "      <td>Да</td>\n",
              "      <td>0.652174</td>\n",
              "      <td>173.0</td>\n",
              "      <td>Соревновательный анализ данных</td>\n",
              "      <td>NaN</td>\n",
              "    </tr>\n",
              "    <tr>\n",
              "      <th>359</th>\n",
              "      <td>2020-05-23 21:16:40.916</td>\n",
              "      <td>79d14db48e4737af731960ae212d5134</td>\n",
              "      <td>966</td>\n",
              "      <td>NaN</td>\n",
              "      <td>NaN</td>\n",
              "      <td>Безопасность компьютерных систем</td>\n",
              "      <td>Принятие решений в условиях риска и неопределё...</td>\n",
              "      <td>Анализ неструктурированных данных</td>\n",
              "      <td>Проектирование и разработка высоконагруженных ...</td>\n",
              "      <td>Методы сжатия и передачи медиаданных</td>\n",
              "      <td>Компьютерное зрение</td>\n",
              "      <td>Да</td>\n",
              "      <td>0.985507</td>\n",
              "      <td>172.0</td>\n",
              "      <td>DevOps</td>\n",
              "      <td>NaN</td>\n",
              "    </tr>\n",
              "    <tr>\n",
              "      <th>360</th>\n",
              "      <td>2020-05-23 21:16:40.916</td>\n",
              "      <td>f2d210ace25a841e1e58036b257d5d47</td>\n",
              "      <td>1195</td>\n",
              "      <td>NaN</td>\n",
              "      <td>NaN</td>\n",
              "      <td>Анализ неструктурированных данных</td>\n",
              "      <td>Моделирование временных рядов</td>\n",
              "      <td>Высокопроизводительные вычисления</td>\n",
              "      <td>Обучение с подкреплением</td>\n",
              "      <td>Компьютерное зрение</td>\n",
              "      <td>Методы сжатия и передачи медиаданных</td>\n",
              "      <td>NaN</td>\n",
              "      <td>0.369565</td>\n",
              "      <td>176.0</td>\n",
              "      <td>Соревновательный анализ данных</td>\n",
              "      <td>NaN</td>\n",
              "    </tr>\n",
              "  </tbody>\n",
              "</table>\n",
              "</div>"
            ],
            "text/plain": [
              "                  timestamp                                id  rating   \n",
              "358 2020-05-20 11:54:38.318  d7118b44c7e8fdbbaaca226d2da6fef1    1111  \\\n",
              "359 2020-05-23 21:16:40.916  79d14db48e4737af731960ae212d5134     966   \n",
              "360 2020-05-23 21:16:40.916  f2d210ace25a841e1e58036b257d5d47    1195   \n",
              "\n",
              "     18_group  is_mi                                           fall_1   \n",
              "358       NaN    NaN  Сбор и обработка данных с помощью краудсорсинга  \\\n",
              "359       NaN    NaN                 Безопасность компьютерных систем   \n",
              "360       NaN    NaN                Анализ неструктурированных данных   \n",
              "\n",
              "                                                fall_2   \n",
              "358                        Statistical Learning Theory  \\\n",
              "359  Принятие решений в условиях риска и неопределё...   \n",
              "360                      Моделирование временных рядов   \n",
              "\n",
              "                                fall_3   \n",
              "358  Анализ неструктурированных данных  \\\n",
              "359  Анализ неструктурированных данных   \n",
              "360  Высокопроизводительные вычисления   \n",
              "\n",
              "                                              spring_1   \n",
              "358  Проектирование и разработка высоконагруженных ...  \\\n",
              "359  Проектирование и разработка высоконагруженных ...   \n",
              "360                           Обучение с подкреплением   \n",
              "\n",
              "                                 spring_2   \n",
              "358  Методы сжатия и передачи медиаданных  \\\n",
              "359  Методы сжатия и передачи медиаданных   \n",
              "360                   Компьютерное зрение   \n",
              "\n",
              "                                 spring_3 is_first_time  percentile  17_group   \n",
              "358                      Численные методы            Да    0.652174     173.0  \\\n",
              "359                   Компьютерное зрение            Да    0.985507     172.0   \n",
              "360  Методы сжатия и передачи медиаданных           NaN    0.369565     176.0   \n",
              "\n",
              "                            blended  is_ml_student  \n",
              "358  Соревновательный анализ данных            NaN  \n",
              "359                          DevOps            NaN  \n",
              "360  Соревновательный анализ данных            NaN  "
            ]
          },
          "execution_count": 2265,
          "metadata": {},
          "output_type": "execute_result"
        }
      ],
      "source": [
        "df.tail(3)"
      ]
    },
    {
      "cell_type": "markdown",
      "metadata": {
        "id": "P6dOzc7e85Bs"
      },
      "source": [
        "### Ответьте на вопросы:\n",
        "1. Сколько было уникальных пользователей из групп 18-го года набора, а сколько из групп 17-го года?"
      ]
    },
    {
      "cell_type": "code",
      "execution_count": 2266,
      "metadata": {
        "id": "ZLBcHvHf890B"
      },
      "outputs": [
        {
          "name": "stdout",
          "output_type": "stream",
          "text": [
            "213\n",
            "134\n"
          ]
        }
      ],
      "source": [
        "print(df[df['17_group'].isna()]['id'].nunique())\n",
        "print(df[df['18_group'].isna()]['id'].nunique())"
      ]
    },
    {
      "cell_type": "markdown",
      "metadata": {
        "id": "dt89P1sG88NN"
      },
      "source": [
        "2. Есть ли уникальные студенты с равными перцентилями?"
      ]
    },
    {
      "cell_type": "code",
      "execution_count": 2267,
      "metadata": {
        "id": "NA8Yy9D98-Nv"
      },
      "outputs": [
        {
          "data": {
            "text/plain": [
              "id\n",
              "1    345\n",
              "2      1\n",
              "Name: count, dtype: int64"
            ]
          },
          "execution_count": 2267,
          "metadata": {},
          "output_type": "execute_result"
        }
      ],
      "source": [
        "df.groupby(by=['percentile'])['id'].nunique().value_counts()"
      ]
    },
    {
      "cell_type": "markdown",
      "metadata": {},
      "source": [
        "Получается, что есть (только нулевой персентиль)"
      ]
    },
    {
      "cell_type": "markdown",
      "metadata": {
        "id": "jPiMwyqHhLuy"
      },
      "source": [
        "#### 2. [0.5 балла] Есть ли в данных пропуски? В каких колонках? Сколько их в каждой из этих колонок?"
      ]
    },
    {
      "cell_type": "code",
      "execution_count": 2268,
      "metadata": {
        "colab": {
          "base_uri": "https://localhost:8080/",
          "height": 586
        },
        "id": "edY1RrSOhLuy",
        "outputId": "051ed439-90a1-4446-8a68-3c37015d06fd"
      },
      "outputs": [
        {
          "data": {
            "text/plain": [
              "timestamp          0\n",
              "id                 0\n",
              "rating             0\n",
              "18_group         138\n",
              "is_mi            343\n",
              "fall_1             0\n",
              "fall_2             0\n",
              "fall_3             0\n",
              "spring_1           0\n",
              "spring_2           0\n",
              "spring_3           0\n",
              "is_first_time      2\n",
              "percentile         0\n",
              "17_group         223\n",
              "blended          223\n",
              "is_ml_student    304\n",
              "dtype: int64"
            ]
          },
          "execution_count": 2268,
          "metadata": {},
          "output_type": "execute_result"
        }
      ],
      "source": [
        "# your code\n",
        "df.isna().sum()"
      ]
    },
    {
      "cell_type": "markdown",
      "metadata": {
        "id": "B5ORhP2uhLuz"
      },
      "source": [
        "Заполните пропуски пустой строкой для строковых колонок, нулём для числовых и False для булевых (постарайтесь избежать перечисления названий всех столбцов)."
      ]
    },
    {
      "cell_type": "code",
      "execution_count": 2269,
      "metadata": {
        "colab": {
          "base_uri": "https://localhost:8080/",
          "height": 586
        },
        "id": "XX9qJkcZEYvN",
        "outputId": "f33d096b-75db-43fc-91ea-258501c34073"
      },
      "outputs": [
        {
          "data": {
            "text/plain": [
              "timestamp        datetime64[ns]\n",
              "id                       object\n",
              "rating                    int64\n",
              "18_group                float64\n",
              "is_mi                   float64\n",
              "fall_1                   object\n",
              "fall_2                   object\n",
              "fall_3                   object\n",
              "spring_1                 object\n",
              "spring_2                 object\n",
              "spring_3                 object\n",
              "is_first_time            object\n",
              "percentile              float64\n",
              "17_group                float64\n",
              "blended                  object\n",
              "is_ml_student           float64\n",
              "dtype: object"
            ]
          },
          "execution_count": 2269,
          "metadata": {},
          "output_type": "execute_result"
        }
      ],
      "source": [
        "df.dtypes"
      ]
    },
    {
      "cell_type": "code",
      "execution_count": 2270,
      "metadata": {
        "colab": {
          "base_uri": "https://localhost:8080/",
          "height": 586
        },
        "id": "TlF_JJ2ghLuz",
        "outputId": "d56f6509-ed33-42fc-aca5-659dc035999d"
      },
      "outputs": [
        {
          "data": {
            "text/plain": [
              "timestamp        0\n",
              "id               0\n",
              "rating           0\n",
              "18_group         0\n",
              "is_mi            0\n",
              "fall_1           0\n",
              "fall_2           0\n",
              "fall_3           0\n",
              "spring_1         0\n",
              "spring_2         0\n",
              "spring_3         0\n",
              "is_first_time    0\n",
              "percentile       0\n",
              "17_group         0\n",
              "blended          0\n",
              "is_ml_student    0\n",
              "dtype: int64"
            ]
          },
          "execution_count": 2270,
          "metadata": {},
          "output_type": "execute_result"
        }
      ],
      "source": [
        "# your code\n",
        "sub = {\n",
        "    'object' : '',\n",
        "    'bool': False,\n",
        "    'float64': 0\n",
        "}\n",
        "for t, val in sub.items():\n",
        "  df[df.select_dtypes(include=[t]).columns] = df[df.select_dtypes(include=[t]).columns].fillna(val)\n",
        "\n",
        "df.isna().sum()"
      ]
    },
    {
      "cell_type": "code",
      "execution_count": 2271,
      "metadata": {
        "colab": {
          "base_uri": "https://localhost:8080/",
          "height": 382
        },
        "id": "5LBxedbnDi3b",
        "outputId": "5d918b8f-59f3-44f1-c676-3bae51a83f2d"
      },
      "outputs": [
        {
          "data": {
            "text/html": [
              "<div>\n",
              "<style scoped>\n",
              "    .dataframe tbody tr th:only-of-type {\n",
              "        vertical-align: middle;\n",
              "    }\n",
              "\n",
              "    .dataframe tbody tr th {\n",
              "        vertical-align: top;\n",
              "    }\n",
              "\n",
              "    .dataframe thead th {\n",
              "        text-align: right;\n",
              "    }\n",
              "</style>\n",
              "<table border=\"1\" class=\"dataframe\">\n",
              "  <thead>\n",
              "    <tr style=\"text-align: right;\">\n",
              "      <th></th>\n",
              "      <th>timestamp</th>\n",
              "      <th>id</th>\n",
              "      <th>rating</th>\n",
              "      <th>18_group</th>\n",
              "      <th>is_mi</th>\n",
              "      <th>fall_1</th>\n",
              "      <th>fall_2</th>\n",
              "      <th>fall_3</th>\n",
              "      <th>spring_1</th>\n",
              "      <th>spring_2</th>\n",
              "      <th>spring_3</th>\n",
              "      <th>is_first_time</th>\n",
              "      <th>percentile</th>\n",
              "      <th>17_group</th>\n",
              "      <th>blended</th>\n",
              "      <th>is_ml_student</th>\n",
              "    </tr>\n",
              "  </thead>\n",
              "  <tbody>\n",
              "    <tr>\n",
              "      <th>0</th>\n",
              "      <td>2020-05-15 01:12:50.543</td>\n",
              "      <td>93ff79a51cd602f1dd3028ba2c129503</td>\n",
              "      <td>698</td>\n",
              "      <td>181.0</td>\n",
              "      <td>0.0</td>\n",
              "      <td>Язык SQL</td>\n",
              "      <td>Высокопроизводительные вычисления</td>\n",
              "      <td>Матричные вычисления</td>\n",
              "      <td>Дискретная оптимизация</td>\n",
              "      <td>Численные методы</td>\n",
              "      <td>Машинное обучение 2</td>\n",
              "      <td>Да</td>\n",
              "      <td>0.183857</td>\n",
              "      <td>0.0</td>\n",
              "      <td></td>\n",
              "      <td>0.0</td>\n",
              "    </tr>\n",
              "    <tr>\n",
              "      <th>1</th>\n",
              "      <td>2020-05-15 02:46:48.066</td>\n",
              "      <td>26b01b1c4cd5656bab18d24c548834fb</td>\n",
              "      <td>647</td>\n",
              "      <td>181.0</td>\n",
              "      <td>0.0</td>\n",
              "      <td>Высокопроизводительные вычисления</td>\n",
              "      <td>Безопасность компьютерных систем</td>\n",
              "      <td>Язык SQL</td>\n",
              "      <td>Дискретная оптимизация</td>\n",
              "      <td>Численные методы</td>\n",
              "      <td>Машинное обучение 2</td>\n",
              "      <td>Нет</td>\n",
              "      <td>0.426009</td>\n",
              "      <td>0.0</td>\n",
              "      <td></td>\n",
              "      <td>0.0</td>\n",
              "    </tr>\n",
              "    <tr>\n",
              "      <th>2</th>\n",
              "      <td>2020-05-15 03:12:41.480</td>\n",
              "      <td>30f3653fc176d54e89ac3179c455c6dd</td>\n",
              "      <td>624</td>\n",
              "      <td>185.0</td>\n",
              "      <td>0.0</td>\n",
              "      <td>Безопасность компьютерных систем</td>\n",
              "      <td>Матричные вычисления</td>\n",
              "      <td>Моделирование временных рядов</td>\n",
              "      <td>Дискретная оптимизация</td>\n",
              "      <td>Машинное обучение 2</td>\n",
              "      <td>Численные методы</td>\n",
              "      <td>Да</td>\n",
              "      <td>0.538117</td>\n",
              "      <td>0.0</td>\n",
              "      <td></td>\n",
              "      <td>0.0</td>\n",
              "    </tr>\n",
              "    <tr>\n",
              "      <th>3</th>\n",
              "      <td>2020-05-15 04:43:08.994</td>\n",
              "      <td>1528f0eaa027580820ccf0d92a53ad68</td>\n",
              "      <td>579</td>\n",
              "      <td>182.0</td>\n",
              "      <td>0.0</td>\n",
              "      <td>Statistical Learning Theory</td>\n",
              "      <td>Высокопроизводительные вычисления</td>\n",
              "      <td>Матричные вычисления</td>\n",
              "      <td>Дискретная оптимизация</td>\n",
              "      <td>Численные методы</td>\n",
              "      <td>Машинное обучение 2</td>\n",
              "      <td>Да</td>\n",
              "      <td>0.744395</td>\n",
              "      <td>0.0</td>\n",
              "      <td></td>\n",
              "      <td>0.0</td>\n",
              "    </tr>\n",
              "    <tr>\n",
              "      <th>4</th>\n",
              "      <td>2020-05-15 07:47:17.197</td>\n",
              "      <td>496ea4f0d4abe264b1bb1b80eb3830c5</td>\n",
              "      <td>572</td>\n",
              "      <td>183.0</td>\n",
              "      <td>0.0</td>\n",
              "      <td>Высокопроизводительные вычисления</td>\n",
              "      <td>Безопасность компьютерных систем</td>\n",
              "      <td>Теория баз данных</td>\n",
              "      <td>Компьютерные сети</td>\n",
              "      <td>Дискретная оптимизация</td>\n",
              "      <td>Численные методы</td>\n",
              "      <td>Да</td>\n",
              "      <td>0.780269</td>\n",
              "      <td>0.0</td>\n",
              "      <td></td>\n",
              "      <td>0.0</td>\n",
              "    </tr>\n",
              "  </tbody>\n",
              "</table>\n",
              "</div>"
            ],
            "text/plain": [
              "                timestamp                                id  rating  18_group   \n",
              "0 2020-05-15 01:12:50.543  93ff79a51cd602f1dd3028ba2c129503     698     181.0  \\\n",
              "1 2020-05-15 02:46:48.066  26b01b1c4cd5656bab18d24c548834fb     647     181.0   \n",
              "2 2020-05-15 03:12:41.480  30f3653fc176d54e89ac3179c455c6dd     624     185.0   \n",
              "3 2020-05-15 04:43:08.994  1528f0eaa027580820ccf0d92a53ad68     579     182.0   \n",
              "4 2020-05-15 07:47:17.197  496ea4f0d4abe264b1bb1b80eb3830c5     572     183.0   \n",
              "\n",
              "   is_mi                             fall_1   \n",
              "0    0.0                           Язык SQL  \\\n",
              "1    0.0  Высокопроизводительные вычисления   \n",
              "2    0.0   Безопасность компьютерных систем   \n",
              "3    0.0        Statistical Learning Theory   \n",
              "4    0.0  Высокопроизводительные вычисления   \n",
              "\n",
              "                              fall_2                         fall_3   \n",
              "0  Высокопроизводительные вычисления           Матричные вычисления  \\\n",
              "1   Безопасность компьютерных систем                       Язык SQL   \n",
              "2               Матричные вычисления  Моделирование временных рядов   \n",
              "3  Высокопроизводительные вычисления           Матричные вычисления   \n",
              "4   Безопасность компьютерных систем              Теория баз данных   \n",
              "\n",
              "                 spring_1                spring_2             spring_3   \n",
              "0  Дискретная оптимизация        Численные методы  Машинное обучение 2  \\\n",
              "1  Дискретная оптимизация        Численные методы  Машинное обучение 2   \n",
              "2  Дискретная оптимизация     Машинное обучение 2     Численные методы   \n",
              "3  Дискретная оптимизация        Численные методы  Машинное обучение 2   \n",
              "4       Компьютерные сети  Дискретная оптимизация     Численные методы   \n",
              "\n",
              "  is_first_time  percentile  17_group blended  is_ml_student  \n",
              "0            Да    0.183857       0.0                    0.0  \n",
              "1           Нет    0.426009       0.0                    0.0  \n",
              "2            Да    0.538117       0.0                    0.0  \n",
              "3            Да    0.744395       0.0                    0.0  \n",
              "4            Да    0.780269       0.0                    0.0  "
            ]
          },
          "execution_count": 2271,
          "metadata": {},
          "output_type": "execute_result"
        }
      ],
      "source": [
        "df.head()"
      ]
    },
    {
      "cell_type": "markdown",
      "metadata": {
        "id": "w5ELhkT1hLuz"
      },
      "source": [
        "#### 3. [0.5 балла] Посмотрите повнимательнее на колонку 'is_first_time'.\n",
        "\n",
        "Каково процентное соотношение ответов? Сколько из них \"Нет\"?"
      ]
    },
    {
      "cell_type": "code",
      "execution_count": 2272,
      "metadata": {
        "colab": {
          "base_uri": "https://localhost:8080/",
          "height": 209
        },
        "id": "VEfiNsyQhLuz",
        "outputId": "95c2dc10-b265-4612-e377-eeae13d8c56e"
      },
      "outputs": [
        {
          "data": {
            "text/plain": [
              "is_first_time\n",
              "Да     308\n",
              "Нет     51\n",
              "         2\n",
              "Name: count, dtype: int64"
            ]
          },
          "execution_count": 2272,
          "metadata": {},
          "output_type": "execute_result"
        }
      ],
      "source": [
        "# your code\n",
        "df['is_first_time'].value_counts()"
      ]
    },
    {
      "cell_type": "markdown",
      "metadata": {
        "id": "7ufxpSDO9Hyc"
      },
      "source": [
        "Если вы найдете повторные обращения студентов, оставьте только самую позднюю версию. В дальнейших заданиях используйте версию данных без повторов.\n",
        "\n",
        "<i>Обращения со значением \"Нет\" в 'is_first_time' могут быть как повторными, так и первичными, поскольку поле заполняли сами студенты.</i>"
      ]
    },
    {
      "cell_type": "code",
      "execution_count": 2273,
      "metadata": {
        "id": "M0Wx60oU9IkX"
      },
      "outputs": [],
      "source": [
        "df = df.drop_duplicates(subset='id', keep='last')"
      ]
    },
    {
      "cell_type": "code",
      "execution_count": 2274,
      "metadata": {
        "colab": {
          "base_uri": "https://localhost:8080/",
          "height": 209
        },
        "id": "Glh1FRlNGmmr",
        "outputId": "6b99431d-eb78-4697-9373-cf9c94281e18"
      },
      "outputs": [
        {
          "data": {
            "text/plain": [
              "is_first_time\n",
              "Да     294\n",
              "Нет     51\n",
              "         2\n",
              "Name: count, dtype: int64"
            ]
          },
          "execution_count": 2274,
          "metadata": {},
          "output_type": "execute_result"
        }
      ],
      "source": [
        "df['is_first_time'].value_counts()"
      ]
    },
    {
      "cell_type": "markdown",
      "metadata": {
        "id": "IlzHp3HVhLuz"
      },
      "source": [
        "#### 4. [0.5 балла] Какие  blended-курсы для четверокурсников существуют? На какой blended-курс записалось наибольшее количество студентов? На каком из blended-курсов собрались студенты с самым высоким средним рейтингом (выведите этот курс и количество студентов на нем)?"
      ]
    },
    {
      "cell_type": "code",
      "execution_count": 2275,
      "metadata": {
        "id": "bsn4vn8RhLuy"
      },
      "outputs": [
        {
          "data": {
            "text/plain": [
              "blended\n",
              "                                         0.493610\n",
              "DevOps                                   0.502499\n",
              "Введение в дифференциальную геометрию    0.343961\n",
              "Соревновательный анализ данных           0.537817\n",
              "Name: percentile, dtype: float64"
            ]
          },
          "execution_count": 2275,
          "metadata": {},
          "output_type": "execute_result"
        }
      ],
      "source": [
        "df.groupby(by=[\"blended\"])['percentile'].mean()"
      ]
    },
    {
      "cell_type": "code",
      "execution_count": 2276,
      "metadata": {},
      "outputs": [
        {
          "data": {
            "text/plain": [
              "blended\n",
              "                                         213\n",
              "DevOps                                    87\n",
              "Введение в дифференциальную геометрию     15\n",
              "Соревновательный анализ данных            32\n",
              "Name: id, dtype: int64"
            ]
          },
          "execution_count": 2276,
          "metadata": {},
          "output_type": "execute_result"
        }
      ],
      "source": [
        "\n",
        "df.groupby(by=[\"blended\"])['id'].nunique()"
      ]
    },
    {
      "cell_type": "markdown",
      "metadata": {},
      "source": [
        "Devops, 87"
      ]
    },
    {
      "cell_type": "markdown",
      "metadata": {
        "id": "IU_FLt8HhLu0"
      },
      "source": [
        "#### 5. [1 балл] Выясните, есть ли студенты с абсолютно одинаковыми предпочтениями по всем курсам.\n",
        "\n",
        "Для этого сформируйте таблицу, где для каждого возможного набора курсов посчитано количество студентов, выбравших такой набор, и оставьте только строки где это количество больше 1.\n",
        "\n",
        "В данном случае набор курсов задается упорядоченным множеством ('fall_1', 'fall_2', 'fall_3', 'spring_1', 'spring_2', 'spring_3', 'blended'). Элемент blended будет нулевым для 3-го курса."
      ]
    },
    {
      "cell_type": "code",
      "execution_count": 2277,
      "metadata": {
        "colab": {
          "base_uri": "https://localhost:8080/",
          "height": 756
        },
        "id": "j_BRWerHhLu0",
        "outputId": "b4773aa0-534a-4650-daed-a5f146ae7e03"
      },
      "outputs": [],
      "source": [
        "cols = ['fall_1', 'fall_2', 'fall_3', 'spring_1', 'spring_2', 'spring_3', 'blended']\n",
        "gb = df.groupby(by=cols)['id'].count()"
      ]
    },
    {
      "cell_type": "code",
      "execution_count": 2278,
      "metadata": {},
      "outputs": [
        {
          "data": {
            "text/plain": [
              "fall_1                                           fall_2                                           fall_3                                           spring_1                                                spring_2                                     spring_3                                     blended\n",
              "Statistical Learning Theory                      Анализ неструктурированных данных                Сбор и обработка данных с помощью краудсорсинга  Обучение с подкреплением                                Конфликты и кооперация                       Компьютерное зрение                          DevOps     2\n",
              "Байесовские методы машинного обучения            Анализ неструктурированных данных                Глубинное обучение в обработке звука             Обучение с подкреплением                                Генеративные модели в машинном обучении      Компьютерное зрение                          DevOps     2\n",
              "                                                                                                  Сбор и обработка данных с помощью краудсорсинга  Обучение с подкреплением                                Компьютерное зрение                          Генеративные модели в машинном обучении      DevOps     2\n",
              "Безопасность компьютерных систем                 Statistical Learning Theory                      Матричные вычисления                             Дискретная оптимизация                                  Промышленное программирование на языке Java  Дополнительные главы прикладной статистики              3\n",
              "                                                 Высокопроизводительные вычисления                Анализ неструктурированных данных                Проектирование и разработка высоконагруженных сервисов  Методы сжатия и передачи медиаданных         Конфликты и кооперация                       DevOps     2\n",
              "                                                                                                  Язык SQL                                         Компьютерные сети                                       Промышленное программирование на языке Java  Дискретная оптимизация                                  3\n",
              "                                                                                                                                                   Промышленное программирование на языке Java             Компьютерные сети                            Системы баз данных                                      2\n",
              "                                                 Матричные вычисления                             Моделирование временных рядов                    Промышленное программирование на языке Java             Компьютерные сети                            Дискретная оптимизация                                  2\n",
              "                                                 Сбор и обработка данных с помощью краудсорсинга  Матричные вычисления                             Компьютерные сети                                       Промышленное программирование на языке Java  Анализ данных в бизнесе                                 2\n",
              "                                                 Теория баз данных                                Язык SQL                                         Машинное обучение 2                                     Компьютерные сети                            Промышленное программирование на языке Java             2\n",
              "Высокопроизводительные вычисления                Безопасность компьютерных систем                 Сбор и обработка данных с помощью краудсорсинга  Проектирование и разработка высоконагруженных сервисов  Методы сжатия и передачи медиаданных         Компьютерное зрение                          DevOps     2\n",
              "                                                 Сбор и обработка данных с помощью краудсорсинга  Моделирование временных рядов                    Проектирование и разработка высоконагруженных сервисов  Методы сжатия и передачи медиаданных         Методы сжатия и передачи медиаданных         DevOps     2\n",
              "Моделирование временных рядов                    Сбор и обработка данных с помощью краудсорсинга  Безопасность компьютерных систем                 Компьютерные сети                                       Дополнительные главы прикладной статистики   Системы баз данных                                      2\n",
              "Сбор и обработка данных с помощью краудсорсинга  Язык SQL                                         Теория баз данных                                Промышленное программирование на языке Java             Машинное обучение 2                          Компьютерные сети                                       2\n",
              "Язык SQL                                         Высокопроизводительные вычисления                Теория баз данных                                Компьютерные сети                                       Промышленное программирование на языке Java  Дискретная оптимизация                                  2\n",
              "Name: id, dtype: int64"
            ]
          },
          "execution_count": 2278,
          "metadata": {},
          "output_type": "execute_result"
        }
      ],
      "source": [
        "gb[gb > 1]"
      ]
    },
    {
      "cell_type": "markdown",
      "metadata": {
        "id": "spu3r3vchLu0"
      },
      "source": [
        "#### 6. [0.5 балла] Найдите курсы по выбору, на которые записывались как студенты 18-го года набора, так и студенты 17-го года."
      ]
    },
    {
      "cell_type": "code",
      "execution_count": 2279,
      "metadata": {},
      "outputs": [
        {
          "data": {
            "text/plain": [
              "array([['Безопасность компьютерных систем',\n",
              "        'Глубинное обучение в обработке звука',\n",
              "        'Байесовские методы машинного обучения', 'Компьютерное зрение',\n",
              "        'Обучение с подкреплением',\n",
              "        'Проектирование и разработка высоконагруженных сервисов',\n",
              "        'DevOps'],\n",
              "       ['Безопасность компьютерных систем',\n",
              "        'Моделирование временных рядов', 'Statistical Learning Theory',\n",
              "        'Проектирование и разработка высоконагруженных сервисов',\n",
              "        'Численные методы', 'Методы сжатия и передачи медиаданных',\n",
              "        'DevOps'],\n",
              "       ['Безопасность компьютерных систем',\n",
              "        'Анализ неструктурированных данных',\n",
              "        'Глубинное обучение в обработке звука', 'Компьютерное зрение',\n",
              "        'Проектирование и разработка высоконагруженных сервисов',\n",
              "        'Генеративные модели в машинном обучении', 'DevOps'],\n",
              "       ['Глубинное обучение в обработке звука',\n",
              "        'Statistical Learning Theory',\n",
              "        'Сбор и обработка данных с помощью краудсорсинга',\n",
              "        'Конфликты и кооперация', 'Обучение с подкреплением',\n",
              "        'Генеративные модели в машинном обучении', 'DevOps'],\n",
              "       ['Безопасность компьютерных систем',\n",
              "        'Высокопроизводительные вычисления',\n",
              "        'Анализ неструктурированных данных',\n",
              "        'Проектирование и разработка высоконагруженных сервисов',\n",
              "        'Методы сжатия и передачи медиаданных', 'Конфликты и кооперация',\n",
              "        'DevOps'],\n",
              "       ['Безопасность компьютерных систем',\n",
              "        'Высокопроизводительные вычисления',\n",
              "        'Анализ неструктурированных данных',\n",
              "        'Проектирование и разработка высоконагруженных сервисов',\n",
              "        'Методы сжатия и передачи медиаданных', 'Конфликты и кооперация',\n",
              "        'DevOps'],\n",
              "       ['Высокопроизводительные вычисления',\n",
              "        'Безопасность компьютерных систем',\n",
              "        'Сбор и обработка данных с помощью краудсорсинга',\n",
              "        'Проектирование и разработка высоконагруженных сервисов',\n",
              "        'Методы сжатия и передачи медиаданных', 'Компьютерное зрение',\n",
              "        'DevOps'],\n",
              "       ['Высокопроизводительные вычисления',\n",
              "        'Безопасность компьютерных систем',\n",
              "        'Принятие решений в условиях риска и неопределённости',\n",
              "        'Проектирование и разработка высоконагруженных сервисов',\n",
              "        'Методы сжатия и передачи медиаданных', 'Конфликты и кооперация',\n",
              "        'DevOps'],\n",
              "       ['Statistical Learning Theory',\n",
              "        'Высокопроизводительные вычисления',\n",
              "        'Statistical Learning Theory', 'Символьные вычисления',\n",
              "        'Численные методы', 'Символьные вычисления',\n",
              "        'Введение в дифференциальную геометрию'],\n",
              "       ['Анализ неструктурированных данных',\n",
              "        'Глубинное обучение в обработке звука',\n",
              "        'Высокопроизводительные вычисления',\n",
              "        'Проектирование и разработка высоконагруженных сервисов',\n",
              "        'Обучение с подкреплением',\n",
              "        'Генеративные модели в машинном обучении', 'DevOps'],\n",
              "       ['Байесовские методы машинного обучения',\n",
              "        'Сбор и обработка данных с помощью краудсорсинга',\n",
              "        'Анализ неструктурированных данных', 'Компьютерное зрение',\n",
              "        'Проектирование и разработка высоконагруженных сервисов',\n",
              "        'Обучение с подкреплением', 'DevOps'],\n",
              "       ['Высокопроизводительные вычисления',\n",
              "        'Безопасность компьютерных систем',\n",
              "        'Моделирование временных рядов',\n",
              "        'Проектирование и разработка высоконагруженных сервисов',\n",
              "        'Методы сжатия и передачи медиаданных', 'Численные методы',\n",
              "        'DevOps'],\n",
              "       ['Безопасность компьютерных систем',\n",
              "        'Высокопроизводительные вычисления',\n",
              "        'Сбор и обработка данных с помощью краудсорсинга',\n",
              "        'Проектирование и разработка высоконагруженных сервисов',\n",
              "        'Методы сжатия и передачи медиаданных',\n",
              "        'Генеративные модели в машинном обучении', 'DevOps'],\n",
              "       ['Высокопроизводительные вычисления',\n",
              "        'Безопасность компьютерных систем',\n",
              "        'Statistical Learning Theory',\n",
              "        'Методы сжатия и передачи медиаданных', 'Символьные вычисления',\n",
              "        'Компьютерное зрение', 'DevOps'],\n",
              "       ['Безопасность компьютерных систем',\n",
              "        'Сбор и обработка данных с помощью краудсорсинга',\n",
              "        'Глубинное обучение в обработке звука',\n",
              "        'Проектирование и разработка высоконагруженных сервисов',\n",
              "        'Методы сжатия и передачи медиаданных', 'Компьютерное зрение',\n",
              "        'DevOps'],\n",
              "       ['Высокопроизводительные вычисления',\n",
              "        'Безопасность компьютерных систем',\n",
              "        'Моделирование временных рядов',\n",
              "        'Проектирование и разработка высоконагруженных сервисов',\n",
              "        'Методы сжатия и передачи медиаданных', 'Численные методы',\n",
              "        'Введение в дифференциальную геометрию'],\n",
              "       ['Высокопроизводительные вычисления',\n",
              "        'Высокопроизводительные вычисления',\n",
              "        'Высокопроизводительные вычисления',\n",
              "        'Проектирование и разработка высоконагруженных сервисов',\n",
              "        'Проектирование и разработка высоконагруженных сервисов',\n",
              "        'Символьные вычисления', 'DevOps'],\n",
              "       ['Байесовские методы машинного обучения',\n",
              "        'Statistical Learning Theory',\n",
              "        'Глубинное обучение в обработке звука', 'Конфликты и кооперация',\n",
              "        'Обучение с подкреплением', 'Символьные вычисления',\n",
              "        'Введение в дифференциальную геометрию'],\n",
              "       ['Анализ неструктурированных данных',\n",
              "        'Глубинное обучение в обработке звука',\n",
              "        'Байесовские методы машинного обучения',\n",
              "        'Обучение с подкреплением',\n",
              "        'Проектирование и разработка высоконагруженных сервисов',\n",
              "        'Генеративные модели в машинном обучении',\n",
              "        'Соревновательный анализ данных'],\n",
              "       ['Высокопроизводительные вычисления',\n",
              "        'Statistical Learning Theory', 'Моделирование временных рядов',\n",
              "        'Проектирование и разработка высоконагруженных сервисов',\n",
              "        'Численные методы', 'Компьютерное зрение',\n",
              "        'Соревновательный анализ данных'],\n",
              "       ['Безопасность компьютерных систем',\n",
              "        'Моделирование временных рядов',\n",
              "        'Высокопроизводительные вычисления',\n",
              "        'Методы сжатия и передачи медиаданных', 'Компьютерное зрение',\n",
              "        'Проектирование и разработка высоконагруженных сервисов',\n",
              "        'DevOps'],\n",
              "       ['Безопасность компьютерных систем',\n",
              "        'Анализ неструктурированных данных',\n",
              "        'Глубинное обучение в обработке звука',\n",
              "        'Проектирование и разработка высоконагруженных сервисов',\n",
              "        'Генеративные модели в машинном обучении',\n",
              "        'Обучение с подкреплением', 'DevOps'],\n",
              "       ['Безопасность компьютерных систем',\n",
              "        'Высокопроизводительные вычисления',\n",
              "        'Сбор и обработка данных с помощью краудсорсинга',\n",
              "        'Проектирование и разработка высоконагруженных сервисов',\n",
              "        'Конфликты и кооперация', 'Численные методы', 'DevOps'],\n",
              "       ['Statistical Learning Theory',\n",
              "        'Байесовские методы машинного обучения',\n",
              "        'Высокопроизводительные вычисления', 'Символьные вычисления',\n",
              "        'Компьютерное зрение',\n",
              "        'Проектирование и разработка высоконагруженных сервисов',\n",
              "        'Введение в дифференциальную геометрию'],\n",
              "       ['Анализ неструктурированных данных',\n",
              "        'Байесовские методы машинного обучения',\n",
              "        'Моделирование временных рядов',\n",
              "        'Генеративные модели в машинном обучении', 'Компьютерное зрение',\n",
              "        'Обучение с подкреплением', 'Соревновательный анализ данных'],\n",
              "       ['Statistical Learning Theory',\n",
              "        'Байесовские методы машинного обучения',\n",
              "        'Моделирование временных рядов', 'Символьные вычисления',\n",
              "        'Компьютерное зрение', 'Конфликты и кооперация',\n",
              "        'Введение в дифференциальную геометрию'],\n",
              "       ['Анализ неструктурированных данных',\n",
              "        'Байесовские методы машинного обучения',\n",
              "        'Statistical Learning Theory', 'Компьютерное зрение',\n",
              "        'Обучение с подкреплением',\n",
              "        'Проектирование и разработка высоконагруженных сервисов',\n",
              "        'Соревновательный анализ данных'],\n",
              "       ['Байесовские методы машинного обучения',\n",
              "        'Statistical Learning Theory', 'Моделирование временных рядов',\n",
              "        'Символьные вычисления', 'Обучение с подкреплением',\n",
              "        'Генеративные модели в машинном обучении',\n",
              "        'Соревновательный анализ данных'],\n",
              "       ['Моделирование временных рядов',\n",
              "        'Безопасность компьютерных систем',\n",
              "        'Анализ неструктурированных данных', 'Численные методы',\n",
              "        'Компьютерное зрение', 'Обучение с подкреплением',\n",
              "        'Введение в дифференциальную геометрию'],\n",
              "       ['Анализ неструктурированных данных',\n",
              "        'Глубинное обучение в обработке звука',\n",
              "        'Высокопроизводительные вычисления', 'Обучение с подкреплением',\n",
              "        'Проектирование и разработка высоконагруженных сервисов',\n",
              "        'Компьютерное зрение', 'DevOps'],\n",
              "       ['Анализ неструктурированных данных',\n",
              "        'Сбор и обработка данных с помощью краудсорсинга',\n",
              "        'Безопасность компьютерных систем', 'Обучение с подкреплением',\n",
              "        'Конфликты и кооперация', 'Компьютерное зрение', 'DevOps'],\n",
              "       ['Байесовские методы машинного обучения',\n",
              "        'Высокопроизводительные вычисления',\n",
              "        'Анализ неструктурированных данных',\n",
              "        'Проектирование и разработка высоконагруженных сервисов',\n",
              "        'Обучение с подкреплением', 'Компьютерное зрение', 'DevOps'],\n",
              "       ['Байесовские методы машинного обучения',\n",
              "        'Анализ неструктурированных данных',\n",
              "        'Сбор и обработка данных с помощью краудсорсинга',\n",
              "        'Обучение с подкреплением', 'Компьютерное зрение',\n",
              "        'Генеративные модели в машинном обучении', 'DevOps'],\n",
              "       ['Безопасность компьютерных систем',\n",
              "        'Глубинное обучение в обработке звука',\n",
              "        'Моделирование временных рядов', 'Обучение с подкреплением',\n",
              "        'Методы сжатия и передачи медиаданных', 'Компьютерное зрение',\n",
              "        'DevOps'],\n",
              "       ['Сбор и обработка данных с помощью краудсорсинга',\n",
              "        'Анализ неструктурированных данных',\n",
              "        'Глубинное обучение в обработке звука',\n",
              "        'Обучение с подкреплением', 'Компьютерное зрение',\n",
              "        'Генеративные модели в машинном обучении', 'DevOps'],\n",
              "       ['Анализ неструктурированных данных',\n",
              "        'Байесовские методы машинного обучения',\n",
              "        'Глубинное обучение в обработке звука',\n",
              "        'Обучение с подкреплением',\n",
              "        'Генеративные модели в машинном обучении', 'Компьютерное зрение',\n",
              "        'DevOps'],\n",
              "       ['Глубинное обучение в обработке звука',\n",
              "        'Анализ неструктурированных данных',\n",
              "        'Байесовские методы машинного обучения',\n",
              "        'Обучение с подкреплением',\n",
              "        'Проектирование и разработка высоконагруженных сервисов',\n",
              "        'Методы сжатия и передачи медиаданных',\n",
              "        'Соревновательный анализ данных'],\n",
              "       ['Сбор и обработка данных с помощью краудсорсинга',\n",
              "        'Анализ неструктурированных данных',\n",
              "        'Глубинное обучение в обработке звука',\n",
              "        'Обучение с подкреплением', 'Конфликты и кооперация',\n",
              "        'Компьютерное зрение', 'Соревновательный анализ данных'],\n",
              "       ['Байесовские методы машинного обучения',\n",
              "        'Анализ неструктурированных данных',\n",
              "        'Глубинное обучение в обработке звука',\n",
              "        'Обучение с подкреплением',\n",
              "        'Генеративные модели в машинном обучении', 'Компьютерное зрение',\n",
              "        'Соревновательный анализ данных'],\n",
              "       ['Анализ неструктурированных данных',\n",
              "        'Сбор и обработка данных с помощью краудсорсинга',\n",
              "        'Глубинное обучение в обработке звука',\n",
              "        'Обучение с подкреплением', 'Компьютерное зрение',\n",
              "        'Конфликты и кооперация', 'DevOps'],\n",
              "       ['Анализ неструктурированных данных',\n",
              "        'Моделирование временных рядов',\n",
              "        'Сбор и обработка данных с помощью краудсорсинга',\n",
              "        'Обучение с подкреплением', 'Компьютерное зрение',\n",
              "        'Генеративные модели в машинном обучении',\n",
              "        'Соревновательный анализ данных'],\n",
              "       ['Сбор и обработка данных с помощью краудсорсинга',\n",
              "        'Моделирование временных рядов',\n",
              "        'Анализ неструктурированных данных',\n",
              "        'Методы сжатия и передачи медиаданных',\n",
              "        'Обучение с подкреплением', 'Численные методы',\n",
              "        'Соревновательный анализ данных'],\n",
              "       ['Байесовские методы машинного обучения',\n",
              "        'Анализ неструктурированных данных',\n",
              "        'Глубинное обучение в обработке звука',\n",
              "        'Обучение с подкреплением',\n",
              "        'Генеративные модели в машинном обучении', 'Компьютерное зрение',\n",
              "        'DevOps'],\n",
              "       ['Байесовские методы машинного обучения',\n",
              "        'Глубинное обучение в обработке звука',\n",
              "        'Анализ неструктурированных данных',\n",
              "        'Генеративные модели в машинном обучении', 'Компьютерное зрение',\n",
              "        'Обучение с подкреплением', 'DevOps'],\n",
              "       ['Байесовские методы машинного обучения',\n",
              "        'Statistical Learning Theory',\n",
              "        'Сбор и обработка данных с помощью краудсорсинга',\n",
              "        'Обучение с подкреплением', 'Компьютерное зрение',\n",
              "        'Численные методы', 'Соревновательный анализ данных'],\n",
              "       ['Анализ неструктурированных данных',\n",
              "        'Глубинное обучение в обработке звука',\n",
              "        'Безопасность компьютерных систем', 'Обучение с подкреплением',\n",
              "        'Методы сжатия и передачи медиаданных', 'Компьютерное зрение',\n",
              "        'DevOps'],\n",
              "       ['Анализ неструктурированных данных',\n",
              "        'Глубинное обучение в обработке звука',\n",
              "        'Сбор и обработка данных с помощью краудсорсинга',\n",
              "        'Обучение с подкреплением',\n",
              "        'Проектирование и разработка высоконагруженных сервисов',\n",
              "        'Методы сжатия и передачи медиаданных', 'DevOps'],\n",
              "       ['Байесовские методы машинного обучения',\n",
              "        'Анализ неструктурированных данных',\n",
              "        'Сбор и обработка данных с помощью краудсорсинга',\n",
              "        'Обучение с подкреплением', 'Компьютерное зрение',\n",
              "        'Проектирование и разработка высоконагруженных сервисов',\n",
              "        'DevOps'],\n",
              "       ['Statistical Learning Theory', 'Моделирование временных рядов',\n",
              "        'Глубинное обучение в обработке звука', 'Компьютерное зрение',\n",
              "        'Символьные вычисления', 'Методы сжатия и передачи медиаданных',\n",
              "        'Соревновательный анализ данных'],\n",
              "       ['Высокопроизводительные вычисления',\n",
              "        'Сбор и обработка данных с помощью краудсорсинга',\n",
              "        'Моделирование временных рядов',\n",
              "        'Проектирование и разработка высоконагруженных сервисов',\n",
              "        'Методы сжатия и передачи медиаданных',\n",
              "        'Методы сжатия и передачи медиаданных', 'DevOps'],\n",
              "       ['Высокопроизводительные вычисления',\n",
              "        'Сбор и обработка данных с помощью краудсорсинга',\n",
              "        'Моделирование временных рядов',\n",
              "        'Проектирование и разработка высоконагруженных сервисов',\n",
              "        'Методы сжатия и передачи медиаданных',\n",
              "        'Методы сжатия и передачи медиаданных', 'DevOps'],\n",
              "       ['Высокопроизводительные вычисления',\n",
              "        'Безопасность компьютерных систем',\n",
              "        'Анализ неструктурированных данных',\n",
              "        'Проектирование и разработка высоконагруженных сервисов',\n",
              "        'Методы сжатия и передачи медиаданных', 'Конфликты и кооперация',\n",
              "        'DevOps'],\n",
              "       ['Сбор и обработка данных с помощью краудсорсинга',\n",
              "        'Анализ неструктурированных данных',\n",
              "        'Глубинное обучение в обработке звука', 'Конфликты и кооперация',\n",
              "        'Обучение с подкреплением', 'Компьютерное зрение',\n",
              "        'Соревновательный анализ данных'],\n",
              "       ['Безопасность компьютерных систем',\n",
              "        'Statistical Learning Theory', 'Моделирование временных рядов',\n",
              "        'Компьютерное зрение',\n",
              "        'Проектирование и разработка высоконагруженных сервисов',\n",
              "        'Методы сжатия и передачи медиаданных',\n",
              "        'Введение в дифференциальную геометрию'],\n",
              "       ['Байесовские методы машинного обучения',\n",
              "        'Анализ неструктурированных данных',\n",
              "        'Глубинное обучение в обработке звука',\n",
              "        'Обучение с подкреплением',\n",
              "        'Генеративные модели в машинном обучении', 'Компьютерное зрение',\n",
              "        'DevOps'],\n",
              "       ['Высокопроизводительные вычисления',\n",
              "        'Безопасность компьютерных систем',\n",
              "        'Моделирование временных рядов', 'Конфликты и кооперация',\n",
              "        'Проектирование и разработка высоконагруженных сервисов',\n",
              "        'Методы сжатия и передачи медиаданных', 'DevOps'],\n",
              "       ['Анализ неструктурированных данных',\n",
              "        'Сбор и обработка данных с помощью краудсорсинга',\n",
              "        'Моделирование временных рядов', 'Обучение с подкреплением',\n",
              "        'Проектирование и разработка высоконагруженных сервисов',\n",
              "        'Компьютерное зрение', 'DevOps'],\n",
              "       ['Анализ неструктурированных данных',\n",
              "        'Безопасность компьютерных систем',\n",
              "        'Байесовские методы машинного обучения',\n",
              "        'Обучение с подкреплением', 'Компьютерное зрение',\n",
              "        'Генеративные модели в машинном обучении', 'DevOps'],\n",
              "       ['Глубинное обучение в обработке звука',\n",
              "        'Сбор и обработка данных с помощью краудсорсинга',\n",
              "        'Моделирование временных рядов', 'Конфликты и кооперация',\n",
              "        'Методы сжатия и передачи медиаданных', 'Символьные вычисления',\n",
              "        'Введение в дифференциальную геометрию'],\n",
              "       ['Высокопроизводительные вычисления',\n",
              "        'Высокопроизводительные вычисления',\n",
              "        'Высокопроизводительные вычисления',\n",
              "        'Методы сжатия и передачи медиаданных',\n",
              "        'Проектирование и разработка высоконагруженных сервисов',\n",
              "        'Методы сжатия и передачи медиаданных', 'DevOps'],\n",
              "       ['Statistical Learning Theory',\n",
              "        'Сбор и обработка данных с помощью краудсорсинга',\n",
              "        'Байесовские методы машинного обучения', 'Компьютерное зрение',\n",
              "        'Генеративные модели в машинном обучении', 'Численные методы',\n",
              "        'Соревновательный анализ данных'],\n",
              "       ['Глубинное обучение в обработке звука',\n",
              "        'Безопасность компьютерных систем',\n",
              "        'Высокопроизводительные вычисления',\n",
              "        'Проектирование и разработка высоконагруженных сервисов',\n",
              "        'Обучение с подкреплением', 'Компьютерное зрение', 'DevOps'],\n",
              "       ['Глубинное обучение в обработке звука',\n",
              "        'Высокопроизводительные вычисления',\n",
              "        'Безопасность компьютерных систем',\n",
              "        'Методы сжатия и передачи медиаданных', 'Конфликты и кооперация',\n",
              "        'Численные методы', 'DevOps'],\n",
              "       ['Statistical Learning Theory',\n",
              "        'Высокопроизводительные вычисления',\n",
              "        'Байесовские методы машинного обучения',\n",
              "        'Проектирование и разработка высоконагруженных сервисов',\n",
              "        'Методы сжатия и передачи медиаданных', 'Символьные вычисления',\n",
              "        'Введение в дифференциальную геометрию'],\n",
              "       ['Statistical Learning Theory',\n",
              "        'Байесовские методы машинного обучения',\n",
              "        'Безопасность компьютерных систем',\n",
              "        'Проектирование и разработка высоконагруженных сервисов',\n",
              "        'Компьютерное зрение', 'Символьные вычисления',\n",
              "        'Введение в дифференциальную геометрию'],\n",
              "       ['Высокопроизводительные вычисления',\n",
              "        'Сбор и обработка данных с помощью краудсорсинга',\n",
              "        'Statistical Learning Theory',\n",
              "        'Проектирование и разработка высоконагруженных сервисов',\n",
              "        'Методы сжатия и передачи медиаданных', 'Компьютерное зрение',\n",
              "        'DevOps'],\n",
              "       ['Принятие решений в условиях риска и неопределённости',\n",
              "        'Моделирование временных рядов',\n",
              "        'Глубинное обучение в обработке звука', 'Конфликты и кооперация',\n",
              "        'Методы сжатия и передачи медиаданных', 'Символьные вычисления',\n",
              "        'Введение в дифференциальную геометрию'],\n",
              "       ['Высокопроизводительные вычисления',\n",
              "        'Безопасность компьютерных систем',\n",
              "        'Сбор и обработка данных с помощью краудсорсинга',\n",
              "        'Проектирование и разработка высоконагруженных сервисов',\n",
              "        'Методы сжатия и передачи медиаданных', 'Компьютерное зрение',\n",
              "        'DevOps'],\n",
              "       ['Statistical Learning Theory', 'Моделирование временных рядов',\n",
              "        'Высокопроизводительные вычисления', 'Символьные вычисления',\n",
              "        'Конфликты и кооперация', 'Численные методы',\n",
              "        'Введение в дифференциальную геометрию'],\n",
              "       ['Принятие решений в условиях риска и неопределённости',\n",
              "        'Моделирование временных рядов',\n",
              "        'Глубинное обучение в обработке звука',\n",
              "        'Обучение с подкреплением', 'Компьютерное зрение',\n",
              "        'Методы сжатия и передачи медиаданных', 'DevOps'],\n",
              "       ['Сбор и обработка данных с помощью краудсорсинга',\n",
              "        'Моделирование временных рядов',\n",
              "        'Анализ неструктурированных данных', 'Обучение с подкреплением',\n",
              "        'Конфликты и кооперация', 'Компьютерное зрение',\n",
              "        'Соревновательный анализ данных'],\n",
              "       ['Безопасность компьютерных систем',\n",
              "        'Безопасность компьютерных систем',\n",
              "        'Безопасность компьютерных систем', 'Символьные вычисления',\n",
              "        'Символьные вычисления', 'Символьные вычисления',\n",
              "        'Введение в дифференциальную геометрию'],\n",
              "       ['Statistical Learning Theory',\n",
              "        'Анализ неструктурированных данных',\n",
              "        'Сбор и обработка данных с помощью краудсорсинга',\n",
              "        'Обучение с подкреплением', 'Конфликты и кооперация',\n",
              "        'Компьютерное зрение', 'Соревновательный анализ данных'],\n",
              "       ['Безопасность компьютерных систем',\n",
              "        'Высокопроизводительные вычисления',\n",
              "        'Глубинное обучение в обработке звука',\n",
              "        'Проектирование и разработка высоконагруженных сервисов',\n",
              "        'Методы сжатия и передачи медиаданных', 'Компьютерное зрение',\n",
              "        'DevOps'],\n",
              "       ['Глубинное обучение в обработке звука',\n",
              "        'Анализ неструктурированных данных',\n",
              "        'Байесовские методы машинного обучения',\n",
              "        'Обучение с подкреплением', 'Компьютерное зрение',\n",
              "        'Генеративные модели в машинном обучении', 'DevOps'],\n",
              "       ['Безопасность компьютерных систем',\n",
              "        'Сбор и обработка данных с помощью краудсорсинга',\n",
              "        'Моделирование временных рядов', 'Компьютерное зрение',\n",
              "        'Методы сжатия и передачи медиаданных',\n",
              "        'Генеративные модели в машинном обучении',\n",
              "        'Соревновательный анализ данных'],\n",
              "       ['Statistical Learning Theory',\n",
              "        'Анализ неструктурированных данных',\n",
              "        'Сбор и обработка данных с помощью краудсорсинга',\n",
              "        'Обучение с подкреплением', 'Конфликты и кооперация',\n",
              "        'Компьютерное зрение', 'DevOps'],\n",
              "       ['Анализ неструктурированных данных',\n",
              "        'Глубинное обучение в обработке звука',\n",
              "        'Байесовские методы машинного обучения',\n",
              "        'Обучение с подкреплением',\n",
              "        'Генеративные модели в машинном обучении', 'Компьютерное зрение',\n",
              "        'DevOps'],\n",
              "       ['Анализ неструктурированных данных',\n",
              "        'Глубинное обучение в обработке звука',\n",
              "        'Байесовские методы машинного обучения',\n",
              "        'Генеративные модели в машинном обучении', 'Компьютерное зрение',\n",
              "        'Обучение с подкреплением', 'Соревновательный анализ данных'],\n",
              "       ['Анализ неструктурированных данных',\n",
              "        'Сбор и обработка данных с помощью краудсорсинга',\n",
              "        'Глубинное обучение в обработке звука',\n",
              "        'Обучение с подкреплением', 'Конфликты и кооперация',\n",
              "        'Компьютерное зрение', 'Соревновательный анализ данных'],\n",
              "       ['Анализ неструктурированных данных',\n",
              "        'Байесовские методы машинного обучения',\n",
              "        'Моделирование временных рядов', 'Обучение с подкреплением',\n",
              "        'Численные методы', 'Генеративные модели в машинном обучении',\n",
              "        'Введение в дифференциальную геометрию'],\n",
              "       ['Высокопроизводительные вычисления',\n",
              "        'Глубинное обучение в обработке звука',\n",
              "        'Сбор и обработка данных с помощью краудсорсинга',\n",
              "        'Методы сжатия и передачи медиаданных',\n",
              "        'Проектирование и разработка высоконагруженных сервисов',\n",
              "        'Конфликты и кооперация', 'Соревновательный анализ данных'],\n",
              "       ['Байесовские методы машинного обучения',\n",
              "        'Statistical Learning Theory',\n",
              "        'Глубинное обучение в обработке звука',\n",
              "        'Обучение с подкреплением',\n",
              "        'Генеративные модели в машинном обучении', 'Компьютерное зрение',\n",
              "        'Соревновательный анализ данных'],\n",
              "       ['Высокопроизводительные вычисления',\n",
              "        'Анализ неструктурированных данных',\n",
              "        'Глубинное обучение в обработке звука',\n",
              "        'Проектирование и разработка высоконагруженных сервисов',\n",
              "        'Компьютерное зрение', 'Методы сжатия и передачи медиаданных',\n",
              "        'DevOps'],\n",
              "       ['Анализ неструктурированных данных',\n",
              "        'Безопасность компьютерных систем',\n",
              "        'Сбор и обработка данных с помощью краудсорсинга',\n",
              "        'Обучение с подкреплением', 'Компьютерное зрение',\n",
              "        'Генеративные модели в машинном обучении', 'DevOps'],\n",
              "       ['Анализ неструктурированных данных',\n",
              "        'Безопасность компьютерных систем',\n",
              "        'Сбор и обработка данных с помощью краудсорсинга',\n",
              "        'Обучение с подкреплением', 'Компьютерное зрение',\n",
              "        'Конфликты и кооперация', 'DevOps'],\n",
              "       ['Безопасность компьютерных систем',\n",
              "        'Сбор и обработка данных с помощью краудсорсинга',\n",
              "        'Моделирование временных рядов',\n",
              "        'Проектирование и разработка высоконагруженных сервисов',\n",
              "        'Методы сжатия и передачи медиаданных', 'Компьютерное зрение',\n",
              "        'DevOps'],\n",
              "       ['Безопасность компьютерных систем',\n",
              "        'Моделирование временных рядов',\n",
              "        'Анализ неструктурированных данных',\n",
              "        'Проектирование и разработка высоконагруженных сервисов',\n",
              "        'Методы сжатия и передачи медиаданных',\n",
              "        'Обучение с подкреплением', 'DevOps'],\n",
              "       ['Глубинное обучение в обработке звука',\n",
              "        'Анализ неструктурированных данных',\n",
              "        'Сбор и обработка данных с помощью краудсорсинга',\n",
              "        'Обучение с подкреплением', 'Конфликты и кооперация',\n",
              "        'Методы сжатия и передачи медиаданных',\n",
              "        'Соревновательный анализ данных'],\n",
              "       ['Сбор и обработка данных с помощью краудсорсинга',\n",
              "        'Байесовские методы машинного обучения',\n",
              "        'Глубинное обучение в обработке звука',\n",
              "        'Проектирование и разработка высоконагруженных сервисов',\n",
              "        'Компьютерное зрение', 'Генеративные модели в машинном обучении',\n",
              "        'DevOps'],\n",
              "       ['Анализ неструктурированных данных',\n",
              "        'Глубинное обучение в обработке звука',\n",
              "        'Моделирование временных рядов', 'Обучение с подкреплением',\n",
              "        'Методы сжатия и передачи медиаданных', 'Компьютерное зрение',\n",
              "        'DevOps'],\n",
              "       ['Безопасность компьютерных систем',\n",
              "        'Сбор и обработка данных с помощью краудсорсинга',\n",
              "        'Анализ неструктурированных данных',\n",
              "        'Проектирование и разработка высоконагруженных сервисов',\n",
              "        'Обучение с подкреплением', 'Компьютерное зрение', 'DevOps'],\n",
              "       ['Безопасность компьютерных систем',\n",
              "        'Высокопроизводительные вычисления',\n",
              "        'Сбор и обработка данных с помощью краудсорсинга',\n",
              "        'Методы сжатия и передачи медиаданных',\n",
              "        'Проектирование и разработка высоконагруженных сервисов',\n",
              "        'Конфликты и кооперация', 'Соревновательный анализ данных'],\n",
              "       ['Анализ неструктурированных данных',\n",
              "        'Сбор и обработка данных с помощью краудсорсинга',\n",
              "        'Безопасность компьютерных систем', 'Обучение с подкреплением',\n",
              "        'Конфликты и кооперация', 'Методы сжатия и передачи медиаданных',\n",
              "        'DevOps'],\n",
              "       ['Высокопроизводительные вычисления',\n",
              "        'Безопасность компьютерных систем',\n",
              "        'Моделирование временных рядов',\n",
              "        'Проектирование и разработка высоконагруженных сервисов',\n",
              "        'Методы сжатия и передачи медиаданных', 'Символьные вычисления',\n",
              "        'DevOps'],\n",
              "       ['Байесовские методы машинного обучения',\n",
              "        'Анализ неструктурированных данных',\n",
              "        'Сбор и обработка данных с помощью краудсорсинга',\n",
              "        'Обучение с подкреплением', 'Компьютерное зрение',\n",
              "        'Генеративные модели в машинном обучении', 'DevOps'],\n",
              "       ['Безопасность компьютерных систем',\n",
              "        'Байесовские методы машинного обучения',\n",
              "        'Statistical Learning Theory', 'Обучение с подкреплением',\n",
              "        'Символьные вычисления',\n",
              "        'Генеративные модели в машинном обучении', 'DevOps'],\n",
              "       ['Байесовские методы машинного обучения',\n",
              "        'Глубинное обучение в обработке звука',\n",
              "        'Statistical Learning Theory', 'Обучение с подкреплением',\n",
              "        'Проектирование и разработка высоконагруженных сервисов',\n",
              "        'Генеративные модели в машинном обучении', 'DevOps'],\n",
              "       ['Высокопроизводительные вычисления',\n",
              "        'Сбор и обработка данных с помощью краудсорсинга',\n",
              "        'Байесовские методы машинного обучения',\n",
              "        'Проектирование и разработка высоконагруженных сервисов',\n",
              "        'Методы сжатия и передачи медиаданных',\n",
              "        'Генеративные модели в машинном обучении', 'DevOps'],\n",
              "       ['Анализ неструктурированных данных',\n",
              "        'Statistical Learning Theory',\n",
              "        'Принятие решений в условиях риска и неопределённости',\n",
              "        'Конфликты и кооперация', 'Обучение с подкреплением',\n",
              "        'Символьные вычисления', 'DevOps'],\n",
              "       ['Анализ неструктурированных данных',\n",
              "        'Сбор и обработка данных с помощью краудсорсинга',\n",
              "        'Глубинное обучение в обработке звука',\n",
              "        'Обучение с подкреплением',\n",
              "        'Генеративные модели в машинном обучении', 'Компьютерное зрение',\n",
              "        'DevOps'],\n",
              "       ['Высокопроизводительные вычисления',\n",
              "        'Моделирование временных рядов',\n",
              "        'Байесовские методы машинного обучения',\n",
              "        'Проектирование и разработка высоконагруженных сервисов',\n",
              "        'Методы сжатия и передачи медиаданных',\n",
              "        'Обучение с подкреплением', 'DevOps'],\n",
              "       ['Анализ неструктурированных данных',\n",
              "        'Безопасность компьютерных систем',\n",
              "        'Глубинное обучение в обработке звука',\n",
              "        'Обучение с подкреплением',\n",
              "        'Методы сжатия и передачи медиаданных',\n",
              "        'Проектирование и разработка высоконагруженных сервисов',\n",
              "        'DevOps'],\n",
              "       ['Анализ неструктурированных данных',\n",
              "        'Глубинное обучение в обработке звука',\n",
              "        'Сбор и обработка данных с помощью краудсорсинга',\n",
              "        'Обучение с подкреплением',\n",
              "        'Генеративные модели в машинном обучении', 'Компьютерное зрение',\n",
              "        'Соревновательный анализ данных'],\n",
              "       ['Байесовские методы машинного обучения',\n",
              "        'Сбор и обработка данных с помощью краудсорсинга',\n",
              "        'Анализ неструктурированных данных', 'Обучение с подкреплением',\n",
              "        'Генеративные модели в машинном обучении', 'Компьютерное зрение',\n",
              "        'DevOps'],\n",
              "       ['Высокопроизводительные вычисления',\n",
              "        'Безопасность компьютерных систем',\n",
              "        'Моделирование временных рядов',\n",
              "        'Методы сжатия и передачи медиаданных',\n",
              "        'Проектирование и разработка высоконагруженных сервисов',\n",
              "        'Численные методы', 'DevOps'],\n",
              "       ['Глубинное обучение в обработке звука',\n",
              "        'Анализ неструктурированных данных',\n",
              "        'Моделирование временных рядов', 'Компьютерное зрение',\n",
              "        'Генеративные модели в машинном обучении',\n",
              "        'Обучение с подкреплением', 'Соревновательный анализ данных'],\n",
              "       ['Безопасность компьютерных систем',\n",
              "        'Глубинное обучение в обработке звука',\n",
              "        'Сбор и обработка данных с помощью краудсорсинга',\n",
              "        'Проектирование и разработка высоконагруженных сервисов',\n",
              "        'Компьютерное зрение', 'Обучение с подкреплением', 'DevOps'],\n",
              "       ['Анализ неструктурированных данных',\n",
              "        'Сбор и обработка данных с помощью краудсорсинга',\n",
              "        'Моделирование временных рядов', 'Обучение с подкреплением',\n",
              "        'Компьютерное зрение', 'Символьные вычисления',\n",
              "        'Соревновательный анализ данных'],\n",
              "       ['Высокопроизводительные вычисления',\n",
              "        'Безопасность компьютерных систем',\n",
              "        'Безопасность компьютерных систем',\n",
              "        'Проектирование и разработка высоконагруженных сервисов',\n",
              "        'Методы сжатия и передачи медиаданных', 'Компьютерное зрение',\n",
              "        'DevOps'],\n",
              "       ['Сбор и обработка данных с помощью краудсорсинга',\n",
              "        'Принятие решений в условиях риска и неопределённости',\n",
              "        'Анализ неструктурированных данных', 'Конфликты и кооперация',\n",
              "        'Численные методы', 'Символьные вычисления',\n",
              "        'Введение в дифференциальную геометрию'],\n",
              "       ['Глубинное обучение в обработке звука',\n",
              "        'Моделирование временных рядов',\n",
              "        'Безопасность компьютерных систем',\n",
              "        'Методы сжатия и передачи медиаданных', 'Компьютерное зрение',\n",
              "        'Обучение с подкреплением', 'DevOps'],\n",
              "       ['Безопасность компьютерных систем',\n",
              "        'Сбор и обработка данных с помощью краудсорсинга',\n",
              "        'Высокопроизводительные вычисления',\n",
              "        'Проектирование и разработка высоконагруженных сервисов',\n",
              "        'Методы сжатия и передачи медиаданных', 'Конфликты и кооперация',\n",
              "        'DevOps'],\n",
              "       ['Анализ неструктурированных данных',\n",
              "        'Глубинное обучение в обработке звука',\n",
              "        'Statistical Learning Theory', 'Обучение с подкреплением',\n",
              "        'Компьютерное зрение',\n",
              "        'Проектирование и разработка высоконагруженных сервисов',\n",
              "        'DevOps'],\n",
              "       ['Безопасность компьютерных систем',\n",
              "        'Сбор и обработка данных с помощью краудсорсинга',\n",
              "        'Высокопроизводительные вычисления',\n",
              "        'Проектирование и разработка высоконагруженных сервисов',\n",
              "        'Методы сжатия и передачи медиаданных',\n",
              "        'Проектирование и разработка высоконагруженных сервисов',\n",
              "        'DevOps'],\n",
              "       ['Анализ неструктурированных данных',\n",
              "        'Глубинное обучение в обработке звука',\n",
              "        'Моделирование временных рядов', 'Обучение с подкреплением',\n",
              "        'Методы сжатия и передачи медиаданных',\n",
              "        'Проектирование и разработка высоконагруженных сервисов',\n",
              "        'DevOps'],\n",
              "       ['Безопасность компьютерных систем',\n",
              "        'Высокопроизводительные вычисления',\n",
              "        'Сбор и обработка данных с помощью краудсорсинга',\n",
              "        'Методы сжатия и передачи медиаданных',\n",
              "        'Проектирование и разработка высоконагруженных сервисов',\n",
              "        'Конфликты и кооперация', 'DevOps'],\n",
              "       ['Высокопроизводительные вычисления',\n",
              "        'Байесовские методы машинного обучения',\n",
              "        'Анализ неструктурированных данных', 'Обучение с подкреплением',\n",
              "        'Символьные вычисления', 'Компьютерное зрение', 'DevOps'],\n",
              "       ['Высокопроизводительные вычисления',\n",
              "        'Глубинное обучение в обработке звука',\n",
              "        'Моделирование временных рядов',\n",
              "        'Методы сжатия и передачи медиаданных',\n",
              "        'Проектирование и разработка высоконагруженных сервисов',\n",
              "        'Конфликты и кооперация', 'DevOps'],\n",
              "       ['Анализ неструктурированных данных',\n",
              "        'Высокопроизводительные вычисления',\n",
              "        'Сбор и обработка данных с помощью краудсорсинга',\n",
              "        'Конфликты и кооперация', 'Методы сжатия и передачи медиаданных',\n",
              "        'Компьютерное зрение', 'Соревновательный анализ данных'],\n",
              "       ['Безопасность компьютерных систем',\n",
              "        'Высокопроизводительные вычисления',\n",
              "        'Анализ неструктурированных данных',\n",
              "        'Методы сжатия и передачи медиаданных',\n",
              "        'Проектирование и разработка высоконагруженных сервисов',\n",
              "        'Символьные вычисления', 'DevOps'],\n",
              "       ['Глубинное обучение в обработке звука',\n",
              "        'Сбор и обработка данных с помощью краудсорсинга',\n",
              "        'Анализ неструктурированных данных', 'Обучение с подкреплением',\n",
              "        'Генеративные модели в машинном обучении', 'Компьютерное зрение',\n",
              "        'Соревновательный анализ данных'],\n",
              "       ['Безопасность компьютерных систем',\n",
              "        'Высокопроизводительные вычисления',\n",
              "        'Высокопроизводительные вычисления',\n",
              "        'Методы сжатия и передачи медиаданных',\n",
              "        'Проектирование и разработка высоконагруженных сервисов',\n",
              "        'Конфликты и кооперация', 'DevOps'],\n",
              "       ['Анализ неструктурированных данных',\n",
              "        'Глубинное обучение в обработке звука',\n",
              "        'Моделирование временных рядов', 'Обучение с подкреплением',\n",
              "        'Компьютерное зрение', 'Конфликты и кооперация',\n",
              "        'Соревновательный анализ данных'],\n",
              "       ['Безопасность компьютерных систем',\n",
              "        'Высокопроизводительные вычисления',\n",
              "        'Сбор и обработка данных с помощью краудсорсинга',\n",
              "        'Конфликты и кооперация',\n",
              "        'Проектирование и разработка высоконагруженных сервисов',\n",
              "        'Символьные вычисления', 'DevOps'],\n",
              "       ['Высокопроизводительные вычисления',\n",
              "        'Сбор и обработка данных с помощью краудсорсинга',\n",
              "        'Statistical Learning Theory',\n",
              "        'Методы сжатия и передачи медиаданных',\n",
              "        'Проектирование и разработка высоконагруженных сервисов',\n",
              "        'Конфликты и кооперация', 'DevOps'],\n",
              "       ['Безопасность компьютерных систем',\n",
              "        'Высокопроизводительные вычисления',\n",
              "        'Безопасность компьютерных систем',\n",
              "        'Проектирование и разработка высоконагруженных сервисов',\n",
              "        'Методы сжатия и передачи медиаданных', 'Символьные вычисления',\n",
              "        'DevOps'],\n",
              "       ['Байесовские методы машинного обучения',\n",
              "        'Глубинное обучение в обработке звука',\n",
              "        'Statistical Learning Theory', 'Обучение с подкреплением',\n",
              "        'Генеративные модели в машинном обучении',\n",
              "        'Методы сжатия и передачи медиаданных', 'DevOps'],\n",
              "       ['Сбор и обработка данных с помощью краудсорсинга',\n",
              "        'Байесовские методы машинного обучения',\n",
              "        'Анализ неструктурированных данных', 'Конфликты и кооперация',\n",
              "        'Обучение с подкреплением', 'Компьютерное зрение',\n",
              "        'Соревновательный анализ данных'],\n",
              "       ['Statistical Learning Theory',\n",
              "        'Анализ неструктурированных данных',\n",
              "        'Сбор и обработка данных с помощью краудсорсинга',\n",
              "        'Обучение с подкреплением', 'Конфликты и кооперация',\n",
              "        'Компьютерное зрение', 'DevOps'],\n",
              "       ['Анализ неструктурированных данных',\n",
              "        'Высокопроизводительные вычисления',\n",
              "        'Моделирование временных рядов', 'Конфликты и кооперация',\n",
              "        'Обучение с подкреплением', 'Численные методы', 'DevOps'],\n",
              "       ['Сбор и обработка данных с помощью краудсорсинга',\n",
              "        'Statistical Learning Theory',\n",
              "        'Анализ неструктурированных данных',\n",
              "        'Проектирование и разработка высоконагруженных сервисов',\n",
              "        'Методы сжатия и передачи медиаданных', 'Численные методы',\n",
              "        'Соревновательный анализ данных'],\n",
              "       ['Безопасность компьютерных систем',\n",
              "        'Принятие решений в условиях риска и неопределённости',\n",
              "        'Анализ неструктурированных данных',\n",
              "        'Проектирование и разработка высоконагруженных сервисов',\n",
              "        'Методы сжатия и передачи медиаданных', 'Компьютерное зрение',\n",
              "        'DevOps'],\n",
              "       ['Анализ неструктурированных данных',\n",
              "        'Моделирование временных рядов',\n",
              "        'Высокопроизводительные вычисления', 'Обучение с подкреплением',\n",
              "        'Компьютерное зрение', 'Методы сжатия и передачи медиаданных',\n",
              "        'Соревновательный анализ данных']], dtype=object)"
            ]
          },
          "execution_count": 2279,
          "metadata": {},
          "output_type": "execute_result"
        }
      ],
      "source": [
        "courses17 = df[df['17_group'] != 0][cols].values\n",
        "courses18 = df[df['18_group'] != 0][cols].values\n",
        "courses17"
      ]
    },
    {
      "cell_type": "code",
      "execution_count": 2280,
      "metadata": {},
      "outputs": [
        {
          "data": {
            "text/plain": [
              "{'Statistical Learning Theory',\n",
              " 'Безопасность компьютерных систем',\n",
              " 'Высокопроизводительные вычисления',\n",
              " 'Моделирование временных рядов',\n",
              " 'Принятие решений в условиях риска и неопределённости',\n",
              " 'Сбор и обработка данных с помощью краудсорсинга',\n",
              " 'Численные методы'}"
            ]
          },
          "execution_count": 2280,
          "metadata": {},
          "output_type": "execute_result"
        }
      ],
      "source": [
        "courses17 = set(courses17.ravel())\n",
        "courses18 = set(courses18.ravel())\n",
        "courses17 & courses18"
      ]
    },
    {
      "cell_type": "markdown",
      "metadata": {},
      "source": [
        "Методом исключения найдите курсы, которые предлагались только студентам 18-го года и только студентам 17-го года."
      ]
    },
    {
      "cell_type": "code",
      "execution_count": 2281,
      "metadata": {
        "id": "t21fWi8ShLu0"
      },
      "outputs": [
        {
          "data": {
            "text/plain": [
              "{'DevOps',\n",
              " 'Анализ неструктурированных данных',\n",
              " 'Байесовские методы машинного обучения',\n",
              " 'Введение в дифференциальную геометрию',\n",
              " 'Генеративные модели в машинном обучении',\n",
              " 'Глубинное обучение в обработке звука',\n",
              " 'Компьютерное зрение',\n",
              " 'Конфликты и кооперация',\n",
              " 'Методы сжатия и передачи медиаданных',\n",
              " 'Обучение с подкреплением',\n",
              " 'Проектирование и разработка высоконагруженных сервисов',\n",
              " 'Символьные вычисления',\n",
              " 'Соревновательный анализ данных'}"
            ]
          },
          "execution_count": 2281,
          "metadata": {},
          "output_type": "execute_result"
        }
      ],
      "source": [
        "courses17 - courses18"
      ]
    },
    {
      "cell_type": "code",
      "execution_count": 2282,
      "metadata": {},
      "outputs": [
        {
          "data": {
            "text/plain": [
              "{'',\n",
              " 'Анализ данных в бизнесе',\n",
              " 'Дискретная оптимизация',\n",
              " 'Дополнительные главы прикладной статистики',\n",
              " 'Компьютерные сети',\n",
              " 'Матричные вычисления',\n",
              " 'Машинное обучение 2',\n",
              " 'Промышленное программирование на языке Java',\n",
              " 'Системы баз данных',\n",
              " 'Теория баз данных',\n",
              " 'Язык SQL'}"
            ]
          },
          "execution_count": 2282,
          "metadata": {},
          "output_type": "execute_result"
        }
      ],
      "source": [
        "courses18 - courses17"
      ]
    },
    {
      "cell_type": "markdown",
      "metadata": {
        "id": "uL45Tg5fhLu1"
      },
      "source": [
        "### Визуализации и matplotlib"
      ]
    },
    {
      "cell_type": "markdown",
      "metadata": {
        "id": "MY9lKmP2hLu1"
      },
      "source": [
        "При работе с данными часто неудобно делать какие-то выводы, если смотреть на таблицу и числа в частности, поэтому важно уметь визуализировать данные. Здесь будут описаны ключевые правила оформления графиков для **всех** домашних заданий.\n",
        "\n",
        "У matplotlib, конечно же, есть [документация](https://matplotlib.org/users/index.html) с большим количеством [примеров](https://matplotlib.org/examples/), но для начала достаточно знать про несколько основных типов графиков:\n",
        "- plot — обычный поточечный график, которым можно изображать кривые или отдельные точки;\n",
        "- hist — гистограмма, показывающая распределение некоторой величины;\n",
        "- scatter — график, показывающий взаимосвязь двух величин;\n",
        "- bar — столбцовый график, показывающий взаимосвязь количественной величины от категориальной.\n",
        "\n",
        "В этом задании вы попробуете построить один из них. Не забывайте про базовые принципы построения приличных графиков:\n",
        "- оси должны быть подписаны, причём не слишком мелко;\n",
        "- у графика должно быть название;\n",
        "- если изображено несколько графиков, то необходима поясняющая легенда;\n",
        "- все линии на графиках должны быть чётко видны (нет похожих цветов или цветов, сливающихся с фоном);\n",
        "- если отображена величина, имеющая очевидный диапазон значений (например, проценты могут быть от 0 до 100), то желательно масштабировать ось на весь диапазон значений (исключением является случай, когда вам необходимо показать малое отличие, которое незаметно в таких масштабах);\n",
        "- сетка на графике помогает оценить значения в точках на глаз, это обычно полезно, поэтому лучше ее отрисовывать;\n",
        "- если распределение на гистограмме имеет тяжёлые хвосты, лучше использовать логарифмическую шкалу.\n",
        "\n",
        "Еще одна билиотека для визуализации: [seaborn](https://jakevdp.github.io/PythonDataScienceHandbook/04.14-visualization-with-seaborn.html) (обычно сокращается до sns). Это настройка над matplotlib, иногда удобнее и красивее делать визуализации через неё.\n",
        "\n",
        "**5 пунктов после которых ваши графики не будут прежними:**\n",
        "- для красивой картинки <code>%config InlineBackend.figure_format = 'retina'</code>\n",
        "- задаем размер (почти) всех графиков (можно выбрать другие значения) <code>plt.rcParams['figure.figsize'] = 8, 5</code>\n",
        "- размер шрифта подписей графиков <code>plt.rcParams['font.size'] = 12</code>\n",
        "- формат в котором сохраняется изображение <code>mpl.rcParams['savefig.format'] = 'pdf'</code>\n",
        "- sns – seaborn, добавляет решетку <code>sns.set_style('darkgrid')</code>\n",
        "\n",
        "Добавьте эти функции в ячейку ниже. Каждый график все равно придется настраивать отдельно, но указанные строчки позволят значительно упростить процесс.  "
      ]
    },
    {
      "cell_type": "code",
      "execution_count": 2283,
      "metadata": {
        "id": "na9doUOFhLu1"
      },
      "outputs": [],
      "source": [
        "%matplotlib inline\n",
        "import matplotlib.pyplot as plt\n",
        "import seaborn as sns\n",
        "\n",
        "%config InlineBackend.figure_format = 'retina'\n",
        "plt.rcParams['figure.figsize'] = 8, 5\n",
        "plt.rcParams['font.size'] = 12\n",
        "mpl.rcParams['savefig.format'] = 'pdf'\n",
        "sns.set_style('darkgrid')"
      ]
    },
    {
      "cell_type": "markdown",
      "metadata": {
        "id": "kikwLpxfhLu1"
      },
      "source": [
        "#### 7. [0.5 балла] Постройте график средних рейтингов по дням получения ответов (bar plot)."
      ]
    },
    {
      "cell_type": "code",
      "execution_count": 2284,
      "metadata": {
        "id": "UTPLVeQvhLu2"
      },
      "outputs": [
        {
          "data": {
            "text/plain": [
              "day\n",
              "2020-05-14    1160.277778\n",
              "2020-05-15     719.866667\n",
              "2020-05-16     736.400000\n",
              "2020-05-17     915.027027\n",
              "2020-05-18     827.352679\n",
              "2020-05-19     761.142857\n",
              "2020-05-20     689.500000\n",
              "2020-05-21     584.000000\n",
              "2020-05-23    1080.500000\n",
              "2020-05-24     670.500000\n",
              "Name: rating, dtype: float64"
            ]
          },
          "execution_count": 2284,
          "metadata": {},
          "output_type": "execute_result"
        }
      ],
      "source": [
        "df['day'] = df['timestamp'].apply(lambda x: x.date())\n",
        "days = df.groupby(by='day')['rating'].mean()\n",
        "days"
      ]
    },
    {
      "cell_type": "markdown",
      "metadata": {
        "id": "AmsQg9_xhLu2"
      },
      "source": [
        "Сохраните график в формате pdf (так он останется векторизованным)."
      ]
    },
    {
      "cell_type": "code",
      "execution_count": 2285,
      "metadata": {
        "id": "vKZNSwWghLu2"
      },
      "outputs": [
        {
          "data": {
            "image/png": "[encoded data removed]",
            "text/plain": [
              "<Figure size 800x500 with 1 Axes>"
            ]
          },
          "metadata": {
            "image/png": {
              "height": 557,
              "width": 714
            }
          },
          "output_type": "display_data"
        }
      ],
      "source": [
        "plt.title('average rating by day')\n",
        "plt.ylabel('rating')\n",
        "days.plot.bar()\n",
        "plt.savefig(\"ratings-by-days.pdf\", format=\"pdf\", bbox_inches=\"tight\")"
      ]
    },
    {
      "cell_type": "markdown",
      "metadata": {
        "id": "sCgWwjl0hLu2"
      },
      "source": [
        "### 2. Распределение студентов по курсам."
      ]
    },
    {
      "cell_type": "markdown",
      "metadata": {
        "id": "6rjOnzRN8A8l"
      },
      "source": [
        "<span style=\"color:red\">!!!ВНИМАТЕЛЬНО ИЗУЧИТЕ ТЕКСТ НИЖЕ!!!</span>.\n",
        "\n",
        "<span style=\"color:orange\">Если во время выполнения заданий у вас вознинут вопросы -- еще раз перечитайте текст целиком, скорее всего ответы уже содержатся в нем.</span>"
      ]
    },
    {
      "cell_type": "markdown",
      "metadata": {
        "id": "VNqXUpr4hLu3"
      },
      "source": [
        "Теперь вам нужно распределить студентов по осенним курсам по выбору, учитывая их предпочтения."
      ]
    },
    {
      "cell_type": "markdown",
      "metadata": {
        "id": "5cAR2FgphLu3"
      },
      "source": [
        "## 📌 **Алгоритм распределения студентов по курсам**:\n",
        "1. По умолчанию на каждой дисциплине по выбору у 3 и 4 курсов может учиться 1 группа (до 30 студентов). Исключения описаны ниже. На blended-дисциплинах для четверокурсников количество мест не ограничено.\n",
        "2. Проводится первая волна отбора. Для каждой дисциплины формируется список тех, кто указал её первым приоритетом (если студент должен выбрать два курса по выбору, то для него дисциплины, которые он указал первым и вторым приоритетом, рассматриваются как дисциплины первого приоритета). Если желающих больше, чем мест, то выбирается топ по перцентилю рейтинга.\n",
        "3. На дисциплинах, где остались места после первой волны, формируются списки тех, кто выбрал их вторым приоритетом, и места заполняются лучшими по перцентили рейтинга студентами. После этого проводится такая же процедура для дисциплин третьего приоритета.\n",
        "4. Если студент не попал на необходимое количество курсов по итогам трёх волн, с ним связывается учебный офис и решает вопрос в индивидуальном порядке."
      ]
    },
    {
      "cell_type": "markdown",
      "metadata": {
        "id": "BiNKVwS6hLu3"
      },
      "source": [
        "## ☝️ **Обращаем ваше внимание на следующие детали:**\n",
        "- Конкурс на каждый курс общий для 3-го и 4-го курса\n",
        "\n",
        "- По умолчанию студент выбирает один осенний и один весенний курс по выбору, а также четверокурсники выбирают один blended-курс. Студенты групп 17-го года специализаций МОП и ТИ выбирают по 2 осенних и 2 весенних курса по выбору, также студенты групп 18' специализации МИ выбирают 2 осенних курса. <i>Для студентов, которые выбирают 2 курса (например, осенних) первый приоритет — <code>fall_1</code> и <code>fall_2</code>, второй приоритет — <code>fall_3</code>. Такие студенты участвуют только в двух волнах отбора</i>.\n",
        "\n",
        "- Студенты специализации МОП не могут выбрать весенним курсом по выбору Машинное обучение 2. **Если студент специализации МОП выбрал Машинное обучение 2, то его приоритеты сдвигаются.** Из-за совпадений первого и второго курса по выбору двигать приоритеты не надо.\n",
        "\n",
        "- Blended-курсы не трогайте, по ним не надо распределять, на другие курсы они никак не влияют.\n",
        "\n",
        "- Заведомо известно, что в процессе распределения не возникнет ситуации, когда на одно место претендуют студенты с одинаковым перцентилем.\n",
        "\n",
        "- Постарайтесь воздержаться от использования циклов там, где это возможно. <i>Допустимо итерироваться по <b>курсам</b>, на которые проводится отбор, и по <b>волнам</b> отбора. Если вы придумаете, как обойтись и без этих циклов, то на усмотрение проверяющего могут быть добавлены бонусные баллы. <b>Дублирование кода не признается успешным избавлением от циклов</b></i>\n",
        "\n",
        "- На выходе ожидается файл res_fall.csv с результатами распределения на осенние курсы по выбору. Файл должен быть следующего формата:\n",
        "\n",
        "    * Три колонки: ID, course1, course2\n",
        "    \n",
        "    * Если студент не попал на курс, но должен был, то вместо названия курса в ячейке должна быть строка \"???\"\n",
        "    \n",
        "    * Если студент должен выбрать только один курс, то в колонке course2 для него должна стоять строка \"-\"\n",
        "    \n",
        "    * Если студент должен выбрать два курса по выбору, то порядок в колонках course1 и course2 не важен.\n",
        "    \n",
        "    * hint: для сохранения воспользуйтесь `df.to_csv('solution.csv', index=None)`\n",
        "    \n",
        "\n",
        "Для работы вам могут понадобиться следующие данные:\n",
        "\n",
        "- Результаты опроса (вы уже использовали этот файл в первой части задания, но на всякий случай ссылка: https://www.dropbox.com/s/f4rm8sjc3v99p0m/_end_seminar.xlsx?dl=0)\n",
        "\n",
        "- Соответствие номеров групп специализациям:\n",
        "\n",
        "    * 171, 172 - МОП; 173 - ТИ; 174 — АДИС; 175, 176 — РС; 177 — АПР\n",
        "    \n",
        "    * У студентов 18-го года номера групп соответствуют номерам до распределения по специализациям. Это означает, что по номеру группы 18* нельзя однозначно определить специализацию студента. При этом в рамках распределения важно знать информацию только о двух из них: МОП и МИ. Эти знание можно получить из колонок 'is_ml_student\n",
        "' и 'is_mi' соответственно.\n",
        "\n",
        "- Ограничения по количеству мест на курсах по выбору:\n",
        "\n",
        "    * Осенние: везде 30 мест, кроме Statistical Learning Theory (60 мест), Высокопроизводительных вычислений (60 мест), Анализа неструктурированных данных ($\\infty$ мест)\n",
        "\n",
        "    * Весенние: везде 30 мест, кроме Обучения с подкреплением (60 мест), Анализа данных в бизнесе (60 мест).\n",
        "\n",
        "\n",
        "Кстати, убедитесь, что в данных больше нет пропусков и повторных записей."
      ]
    },
    {
      "cell_type": "markdown",
      "metadata": {
        "id": "o5t55IcQhLu4"
      },
      "source": [
        "#### 0. Проверка\n",
        "\n",
        "Для начала давайте убедимся, что вы успешно выполнили задания первой части и проверим ваши данные на наличие пропусков и повторов:"
      ]
    },
    {
      "cell_type": "code",
      "execution_count": 2286,
      "metadata": {
        "colab": {
          "base_uri": "https://localhost:8080/",
          "height": 176
        },
        "id": "34HWEdVdhLu4",
        "outputId": "61ed0c83-71ce-4382-e558-4c03643273bb"
      },
      "outputs": [],
      "source": [
        "assert df.shape[0] == 347, 'В таблице остались повторы или потеряны данные'\n",
        "\n",
        "assert df.isna().sum().sum() == 0, 'В таблице остались пропуски'"
      ]
    },
    {
      "cell_type": "markdown",
      "metadata": {
        "id": "_ImUFyG3hLu4"
      },
      "source": [
        "Если вы не получили AssertionError, то можете продолжать."
      ]
    },
    {
      "cell_type": "markdown",
      "metadata": {
        "id": "LTGSwwvAhLu4"
      },
      "source": [
        "#### 1. [1 балл] Создайте новый признак, обозначающий, сколько осенних курсов должен выбрать студент\n",
        "\n",
        "В этом вам может помочь информация о специализации и группе стундента."
      ]
    },
    {
      "cell_type": "code",
      "execution_count": 2287,
      "metadata": {},
      "outputs": [
        {
          "data": {
            "text/html": [
              "<div>\n",
              "<style scoped>\n",
              "    .dataframe tbody tr th:only-of-type {\n",
              "        vertical-align: middle;\n",
              "    }\n",
              "\n",
              "    .dataframe tbody tr th {\n",
              "        vertical-align: top;\n",
              "    }\n",
              "\n",
              "    .dataframe thead th {\n",
              "        text-align: right;\n",
              "    }\n",
              "</style>\n",
              "<table border=\"1\" class=\"dataframe\">\n",
              "  <thead>\n",
              "    <tr style=\"text-align: right;\">\n",
              "      <th></th>\n",
              "      <th>timestamp</th>\n",
              "      <th>id</th>\n",
              "      <th>rating</th>\n",
              "      <th>18_group</th>\n",
              "      <th>is_mi</th>\n",
              "      <th>fall_1</th>\n",
              "      <th>fall_2</th>\n",
              "      <th>fall_3</th>\n",
              "      <th>spring_1</th>\n",
              "      <th>spring_2</th>\n",
              "      <th>spring_3</th>\n",
              "      <th>is_first_time</th>\n",
              "      <th>percentile</th>\n",
              "      <th>17_group</th>\n",
              "      <th>blended</th>\n",
              "      <th>is_ml_student</th>\n",
              "      <th>day</th>\n",
              "    </tr>\n",
              "  </thead>\n",
              "  <tbody>\n",
              "    <tr>\n",
              "      <th>315</th>\n",
              "      <td>2020-05-18 21:45:27.359</td>\n",
              "      <td>5ac46b96ef57b09c77dc50a6da3f39a5</td>\n",
              "      <td>1108</td>\n",
              "      <td>0.0</td>\n",
              "      <td>0.0</td>\n",
              "      <td>Анализ неструктурированных данных</td>\n",
              "      <td>Глубинное обучение в обработке звука</td>\n",
              "      <td>Моделирование временных рядов</td>\n",
              "      <td>Обучение с подкреплением</td>\n",
              "      <td>Методы сжатия и передачи медиаданных</td>\n",
              "      <td>Компьютерное зрение</td>\n",
              "      <td>Да</td>\n",
              "      <td>0.65942</td>\n",
              "      <td>174.0</td>\n",
              "      <td>DevOps</td>\n",
              "      <td>0.0</td>\n",
              "      <td>2020-05-18</td>\n",
              "    </tr>\n",
              "  </tbody>\n",
              "</table>\n",
              "</div>"
            ],
            "text/plain": [
              "                  timestamp                                id  rating   \n",
              "315 2020-05-18 21:45:27.359  5ac46b96ef57b09c77dc50a6da3f39a5    1108  \\\n",
              "\n",
              "     18_group  is_mi                             fall_1   \n",
              "315       0.0    0.0  Анализ неструктурированных данных  \\\n",
              "\n",
              "                                   fall_2                         fall_3   \n",
              "315  Глубинное обучение в обработке звука  Моделирование временных рядов  \\\n",
              "\n",
              "                     spring_1                              spring_2   \n",
              "315  Обучение с подкреплением  Методы сжатия и передачи медиаданных  \\\n",
              "\n",
              "                spring_3 is_first_time  percentile  17_group blended   \n",
              "315  Компьютерное зрение            Да     0.65942     174.0  DevOps  \\\n",
              "\n",
              "     is_ml_student         day  \n",
              "315            0.0  2020-05-18  "
            ]
          },
          "execution_count": 2287,
          "metadata": {},
          "output_type": "execute_result"
        }
      ],
      "source": [
        "df.sample()"
      ]
    },
    {
      "cell_type": "code",
      "execution_count": 2288,
      "metadata": {
        "id": "ouxo0kHFhLu4"
      },
      "outputs": [],
      "source": [
        "base = 1\n",
        "# mo/ti -> +1\n",
        "# 3 year & mi -> +1\n",
        "\n",
        "additional_filter = (\n",
        "        (df['17_group'] == 171.0) \\\n",
        "      | (df['17_group'] == 172.0) \\\n",
        "      | (df['17_group'] == 173))  \\\n",
        "      | ((df['18_group'] != 0) & (df['is_mi'] != 0))\n",
        "\n",
        "df['fall_amount'] = base\n",
        "df.loc[additional_filter, 'fall_amount'] = base + 1"
      ]
    },
    {
      "cell_type": "markdown",
      "metadata": {
        "id": "S47aq1sQhLu4"
      },
      "source": [
        "Проверка:"
      ]
    },
    {
      "cell_type": "code",
      "execution_count": 2289,
      "metadata": {
        "id": "OlOgzDKDhLu5"
      },
      "outputs": [],
      "source": [
        "col_name = 'fall_amount'\n",
        "\n",
        "assert(df[df['id'] == '2662600c2c37e11e62f6ee0b88452f22'][col_name] == 2).all()\n",
        "assert(df[df['id'] == 'd555d2805e1d93d4f023e57dc4c8f403'][col_name] == 2).all()\n",
        "assert(df[df['id'] == '8fe79f84f36e3a5d2d6745621321302c'][col_name] == 1).all()\n",
        "assert(df[df['id'] == 'e4caca755ee0bdd711e18fb8084958b5'][col_name] == 1).all()"
      ]
    },
    {
      "cell_type": "markdown",
      "metadata": {
        "id": "VtQYhwuPhLu5"
      },
      "source": [
        "#### 2. [2 балла] Распределите студентов в соответствии с первым приоритетом"
      ]
    },
    {
      "cell_type": "markdown",
      "metadata": {},
      "source": [
        "## 📌 **Алгоритм распределения студентов по курсам**:\n",
        "1. По умолчанию на каждой дисциплине по выбору у 3 и 4 курсов может учиться 1 группа (до 30 студентов). Исключения описаны ниже. На blended-дисциплинах для четверокурсников количество мест не ограничено.\n",
        "2. Проводится первая волна отбора. Для каждой дисциплины формируется список тех, кто указал её первым приоритетом (если студент должен выбрать два курса по выбору, то для него дисциплины, которые он указал первым и вторым приоритетом, рассматриваются как дисциплины первого приоритета). Если желающих больше, чем мест, то выбирается топ по перцентилю рейтинга.\n",
        "3. На дисциплинах, где остались места после первой волны, формируются списки тех, кто выбрал их вторым приоритетом, и места заполняются лучшими по перцентили рейтинга студентами. После этого проводится такая же процедура для дисциплин третьего приоритета.\n",
        "4. Если студент не попал на необходимое количество курсов по итогам трёх волн, с ним связывается учебный офис и решает вопрос в индивидуальном порядке."
      ]
    },
    {
      "cell_type": "code",
      "execution_count": 2290,
      "metadata": {},
      "outputs": [],
      "source": [
        "df['course_1'] = '???'\n",
        "df['course_2'] = '???'\n",
        "\n",
        "df['best'] = np.NaN\n",
        "df['worst'] = np.NaN"
      ]
    },
    {
      "cell_type": "code",
      "execution_count": 2291,
      "metadata": {},
      "outputs": [
        {
          "data": {
            "text/plain": [
              "{'Statistical Learning Theory': 60,\n",
              " 'Анализ неструктурированных данных': 1800,\n",
              " 'Байесовские методы машинного обучения': 30,\n",
              " 'Безопасность компьютерных систем': 30,\n",
              " 'Высокопроизводительные вычисления': 60,\n",
              " 'Глубинное обучение в обработке звука': 30,\n",
              " 'Матричные вычисления': 30,\n",
              " 'Моделирование временных рядов': 30,\n",
              " 'Принятие решений в условиях риска и неопределённости': 30,\n",
              " 'Сбор и обработка данных с помощью краудсорсинга': 30,\n",
              " 'Теория баз данных': 30,\n",
              " 'Язык SQL': 30}"
            ]
          },
          "execution_count": 2291,
          "metadata": {},
          "output_type": "execute_result"
        }
      ],
      "source": [
        "courses = set(df['fall_1'].values.ravel()) | set(df['fall_2'].values.ravel()) | set(df['fall_3'].values.ravel())\n",
        "courses = sorted(courses)\n",
        "courses\n",
        "places_left = dict.fromkeys(courses, 30)\n",
        "places_left['Statistical Learning Theory'] = 60\n",
        "places_left['Высокопроизводительные вычисления'] = 60\n",
        "places_left['Анализ неструктурированных данных'] = 1800\n",
        "places_left"
      ]
    },
    {
      "cell_type": "code",
      "execution_count": 2292,
      "metadata": {},
      "outputs": [
        {
          "data": {
            "text/html": [
              "<div>\n",
              "<style scoped>\n",
              "    .dataframe tbody tr th:only-of-type {\n",
              "        vertical-align: middle;\n",
              "    }\n",
              "\n",
              "    .dataframe tbody tr th {\n",
              "        vertical-align: top;\n",
              "    }\n",
              "\n",
              "    .dataframe thead th {\n",
              "        text-align: right;\n",
              "    }\n",
              "</style>\n",
              "<table border=\"1\" class=\"dataframe\">\n",
              "  <thead>\n",
              "    <tr style=\"text-align: right;\">\n",
              "      <th></th>\n",
              "      <th>timestamp</th>\n",
              "      <th>id</th>\n",
              "      <th>rating</th>\n",
              "      <th>18_group</th>\n",
              "      <th>is_mi</th>\n",
              "      <th>fall_1</th>\n",
              "      <th>fall_2</th>\n",
              "      <th>fall_3</th>\n",
              "      <th>spring_1</th>\n",
              "      <th>spring_2</th>\n",
              "      <th>...</th>\n",
              "      <th>percentile</th>\n",
              "      <th>17_group</th>\n",
              "      <th>blended</th>\n",
              "      <th>is_ml_student</th>\n",
              "      <th>day</th>\n",
              "      <th>fall_amount</th>\n",
              "      <th>course_1</th>\n",
              "      <th>course_2</th>\n",
              "      <th>best</th>\n",
              "      <th>worst</th>\n",
              "    </tr>\n",
              "  </thead>\n",
              "  <tbody>\n",
              "    <tr>\n",
              "      <th>80</th>\n",
              "      <td>2020-05-18 17:09:23.589</td>\n",
              "      <td>3e106aaef8b24dbb01319c73e14c2936</td>\n",
              "      <td>784</td>\n",
              "      <td>182.0</td>\n",
              "      <td>0.0</td>\n",
              "      <td>Безопасность компьютерных систем</td>\n",
              "      <td>Statistical Learning Theory</td>\n",
              "      <td>Матричные вычисления</td>\n",
              "      <td>Дискретная оптимизация</td>\n",
              "      <td>Промышленное программирование на языке Java</td>\n",
              "      <td>...</td>\n",
              "      <td>0.000000</td>\n",
              "      <td>0.0</td>\n",
              "      <td></td>\n",
              "      <td>1.0</td>\n",
              "      <td>2020-05-18</td>\n",
              "      <td>1</td>\n",
              "      <td>???</td>\n",
              "      <td>???</td>\n",
              "      <td>NaN</td>\n",
              "      <td>NaN</td>\n",
              "    </tr>\n",
              "    <tr>\n",
              "      <th>231</th>\n",
              "      <td>2020-05-14 21:52:43.844</td>\n",
              "      <td>3a7326c9e355a67d3805824ca34c4bc5</td>\n",
              "      <td>1457</td>\n",
              "      <td>0.0</td>\n",
              "      <td>0.0</td>\n",
              "      <td>Statistical Learning Theory</td>\n",
              "      <td>Высокопроизводительные вычисления</td>\n",
              "      <td>Statistical Learning Theory</td>\n",
              "      <td>Символьные вычисления</td>\n",
              "      <td>Численные методы</td>\n",
              "      <td>...</td>\n",
              "      <td>0.000000</td>\n",
              "      <td>173.0</td>\n",
              "      <td>Введение в дифференциальную геометрию</td>\n",
              "      <td>0.0</td>\n",
              "      <td>2020-05-14</td>\n",
              "      <td>2</td>\n",
              "      <td>???</td>\n",
              "      <td>???</td>\n",
              "      <td>NaN</td>\n",
              "      <td>NaN</td>\n",
              "    </tr>\n",
              "    <tr>\n",
              "      <th>91</th>\n",
              "      <td>2020-05-18 18:03:57.347</td>\n",
              "      <td>e0ca1a9548af9a3f98428c62420aa484</td>\n",
              "      <td>764</td>\n",
              "      <td>182.0</td>\n",
              "      <td>0.0</td>\n",
              "      <td>Матричные вычисления</td>\n",
              "      <td>Безопасность компьютерных систем</td>\n",
              "      <td>Statistical Learning Theory</td>\n",
              "      <td>Дискретная оптимизация</td>\n",
              "      <td>Дополнительные главы прикладной статистики</td>\n",
              "      <td>...</td>\n",
              "      <td>0.004484</td>\n",
              "      <td>0.0</td>\n",
              "      <td></td>\n",
              "      <td>0.0</td>\n",
              "      <td>2020-05-18</td>\n",
              "      <td>1</td>\n",
              "      <td>???</td>\n",
              "      <td>???</td>\n",
              "      <td>NaN</td>\n",
              "      <td>NaN</td>\n",
              "    </tr>\n",
              "    <tr>\n",
              "      <th>273</th>\n",
              "      <td>2020-05-18 12:39:47.722</td>\n",
              "      <td>7fe7df0d207babbf30249b3063ac1f26</td>\n",
              "      <td>1365</td>\n",
              "      <td>0.0</td>\n",
              "      <td>0.0</td>\n",
              "      <td>Высокопроизводительные вычисления</td>\n",
              "      <td>Сбор и обработка данных с помощью краудсорсинга</td>\n",
              "      <td>Моделирование временных рядов</td>\n",
              "      <td>Проектирование и разработка высоконагруженных ...</td>\n",
              "      <td>Методы сжатия и передачи медиаданных</td>\n",
              "      <td>...</td>\n",
              "      <td>0.007246</td>\n",
              "      <td>175.0</td>\n",
              "      <td>DevOps</td>\n",
              "      <td>0.0</td>\n",
              "      <td>2020-05-18</td>\n",
              "      <td>1</td>\n",
              "      <td>???</td>\n",
              "      <td>???</td>\n",
              "      <td>NaN</td>\n",
              "      <td>NaN</td>\n",
              "    </tr>\n",
              "    <tr>\n",
              "      <th>19</th>\n",
              "      <td>2020-05-15 21:34:32.550</td>\n",
              "      <td>86d929f6fd741e56e93cee5900298849</td>\n",
              "      <td>761</td>\n",
              "      <td>181.0</td>\n",
              "      <td>0.0</td>\n",
              "      <td>Сбор и обработка данных с помощью краудсорсинга</td>\n",
              "      <td>Сбор и обработка данных с помощью краудсорсинга</td>\n",
              "      <td>Сбор и обработка данных с помощью краудсорсинга</td>\n",
              "      <td>Дополнительные главы прикладной статистики</td>\n",
              "      <td>Дополнительные главы прикладной статистики</td>\n",
              "      <td>...</td>\n",
              "      <td>0.008969</td>\n",
              "      <td>0.0</td>\n",
              "      <td></td>\n",
              "      <td>0.0</td>\n",
              "      <td>2020-05-15</td>\n",
              "      <td>1</td>\n",
              "      <td>???</td>\n",
              "      <td>???</td>\n",
              "      <td>NaN</td>\n",
              "      <td>NaN</td>\n",
              "    </tr>\n",
              "  </tbody>\n",
              "</table>\n",
              "<p>5 rows × 22 columns</p>\n",
              "</div>"
            ],
            "text/plain": [
              "                  timestamp                                id  rating   \n",
              "80  2020-05-18 17:09:23.589  3e106aaef8b24dbb01319c73e14c2936     784  \\\n",
              "231 2020-05-14 21:52:43.844  3a7326c9e355a67d3805824ca34c4bc5    1457   \n",
              "91  2020-05-18 18:03:57.347  e0ca1a9548af9a3f98428c62420aa484     764   \n",
              "273 2020-05-18 12:39:47.722  7fe7df0d207babbf30249b3063ac1f26    1365   \n",
              "19  2020-05-15 21:34:32.550  86d929f6fd741e56e93cee5900298849     761   \n",
              "\n",
              "     18_group  is_mi                                           fall_1   \n",
              "80      182.0    0.0                 Безопасность компьютерных систем  \\\n",
              "231       0.0    0.0                      Statistical Learning Theory   \n",
              "91      182.0    0.0                             Матричные вычисления   \n",
              "273       0.0    0.0                Высокопроизводительные вычисления   \n",
              "19      181.0    0.0  Сбор и обработка данных с помощью краудсорсинга   \n",
              "\n",
              "                                              fall_2   \n",
              "80                       Statistical Learning Theory  \\\n",
              "231                Высокопроизводительные вычисления   \n",
              "91                  Безопасность компьютерных систем   \n",
              "273  Сбор и обработка данных с помощью краудсорсинга   \n",
              "19   Сбор и обработка данных с помощью краудсорсинга   \n",
              "\n",
              "                                              fall_3   \n",
              "80                              Матричные вычисления  \\\n",
              "231                      Statistical Learning Theory   \n",
              "91                       Statistical Learning Theory   \n",
              "273                    Моделирование временных рядов   \n",
              "19   Сбор и обработка данных с помощью краудсорсинга   \n",
              "\n",
              "                                              spring_1   \n",
              "80                              Дискретная оптимизация  \\\n",
              "231                              Символьные вычисления   \n",
              "91                              Дискретная оптимизация   \n",
              "273  Проектирование и разработка высоконагруженных ...   \n",
              "19          Дополнительные главы прикладной статистики   \n",
              "\n",
              "                                        spring_2  ... percentile 17_group   \n",
              "80   Промышленное программирование на языке Java  ...   0.000000      0.0  \\\n",
              "231                             Численные методы  ...   0.000000    173.0   \n",
              "91    Дополнительные главы прикладной статистики  ...   0.004484      0.0   \n",
              "273         Методы сжатия и передачи медиаданных  ...   0.007246    175.0   \n",
              "19    Дополнительные главы прикладной статистики  ...   0.008969      0.0   \n",
              "\n",
              "                                   blended  is_ml_student         day   \n",
              "80                                                    1.0  2020-05-18  \\\n",
              "231  Введение в дифференциальную геометрию            0.0  2020-05-14   \n",
              "91                                                    0.0  2020-05-18   \n",
              "273                                 DevOps            0.0  2020-05-18   \n",
              "19                                                    0.0  2020-05-15   \n",
              "\n",
              "     fall_amount course_1  course_2 best worst  \n",
              "80             1      ???       ???  NaN   NaN  \n",
              "231            2      ???       ???  NaN   NaN  \n",
              "91             1      ???       ???  NaN   NaN  \n",
              "273            1      ???       ???  NaN   NaN  \n",
              "19             1      ???       ???  NaN   NaN  \n",
              "\n",
              "[5 rows x 22 columns]"
            ]
          },
          "execution_count": 2292,
          "metadata": {},
          "output_type": "execute_result"
        }
      ],
      "source": [
        "df.sort_values(by='percentile', inplace=True)\n",
        "df.head()"
      ]
    },
    {
      "cell_type": "code",
      "execution_count": 2293,
      "metadata": {},
      "outputs": [],
      "source": [
        "# wave 1\n",
        "for course in courses:\n",
        "    first_priority = \\\n",
        "      ((df['fall_1'] == course) \n",
        "    | ((df['fall_amount'] == 2) & (df['fall_2'] == course)))\n",
        "\n",
        "    c1_free = (df['course_1'] == '???')\n",
        "    c2_free = ((df['fall_amount'] == 2) & (df['course_2'] == '???') & (df['course_1'] != '???'))\n",
        "\n",
        "    n1 = len(df[first_priority & c1_free])\n",
        "    n2 = len(df[first_priority & c2_free])\n",
        "\n",
        "    passes_n = min(places_left[course], n1+n2)\n",
        "    passes = df.loc[first_priority & (c1_free | c2_free), 'id'].head(passes_n)\n",
        "    df.loc[(df['id'].isin(passes) & c1_free), 'course_1'] = course\n",
        "    df.loc[(df['id'].isin(passes) & c2_free), 'course_2'] = course\n",
        "\n",
        "    places_left[course] -= passes_n\n",
        "\n",
        "    passed = (df.loc[(df['course_1'] == course) | (df['course_2'] == course), 'id'])\n",
        "\n",
        "    df.loc[(df['id'] == passed.iloc[0]), 'best'] = True\n",
        "    df.loc[(df['id'] == passed.iloc[-1]), 'worst'] = True"
      ]
    },
    {
      "cell_type": "markdown",
      "metadata": {
        "id": "vc5zXP5hhLu5"
      },
      "source": [
        "Здесь для проверки приведена таблица, в которой есть 2 дополнительные колонки:\n",
        "    \n",
        "    1) is_first_place - является ли студент лучшим по перцентили хотя бы на одном из курсов, куда он был зачислен\n",
        "    (True / NaN)\n",
        "    \n",
        "    2) is_last_place  - является ли студент худшим по перцентили хотя бы на одном из курсов, куда он был зачислен (True / NaN)"
      ]
    },
    {
      "cell_type": "code",
      "execution_count": 2294,
      "metadata": {
        "id": "uZTkGEq5hLu5"
      },
      "outputs": [],
      "source": [
        "!wget  -O '2_task_check.csv' -q 'https://www.dropbox.com/s/v8o2zzq3iz5gc9w/_2_task_check.csv?dl=0'\n",
        "check_df = pd.read_csv('2_task_check.csv')"
      ]
    },
    {
      "cell_type": "markdown",
      "metadata": {
        "id": "E_fbyB9qhLu5"
      },
      "source": [
        "После распределения студентов в соответствии с первым приоритетом добавьте в свой датафрейм аналогичные признаки и запустите проверку:"
      ]
    },
    {
      "cell_type": "code",
      "execution_count": 2295,
      "metadata": {
        "id": "GOAzQeYehLu6"
      },
      "outputs": [],
      "source": [
        "fir_col_name =  'best'     # insert name of your new column with is_first_place as str\n",
        "last_col_name = 'worst'     # insert name of your new column with is_last_place as str\n",
        "\n",
        "\n",
        "assert((df[df[fir_col_name].isna() == False][['id']].sort_values('id').reset_index(drop=True)\n",
        "        ==\n",
        "        check_df[check_df['is_first_place'].isna() == False][['id']].sort_values('id').reset_index(drop=True)\n",
        "       ).id.values).all()\n",
        "\n",
        "\n",
        "assert((df[df[last_col_name].isna() == False][['id']].sort_values('id').reset_index(drop=True)\n",
        "       ==\n",
        "       check_df[check_df['is_last_place'].isna() == False][['id']].sort_values('id').reset_index(drop=True)\n",
        "      ).id.values).all()"
      ]
    },
    {
      "cell_type": "markdown",
      "metadata": {
        "id": "RO6DwNNFhLu6"
      },
      "source": [
        "#### 3. [2 балла] Проведите все три волны отбора студентов на курсы по выбору"
      ]
    },
    {
      "cell_type": "code",
      "execution_count": 2296,
      "metadata": {},
      "outputs": [
        {
          "data": {
            "text/plain": [
              "81"
            ]
          },
          "execution_count": 2296,
          "metadata": {},
          "output_type": "execute_result"
        }
      ],
      "source": [
        "len(df[df['course_1'] == '???'])"
      ]
    },
    {
      "cell_type": "code",
      "execution_count": 2297,
      "metadata": {
        "id": "jn2OOrLjhLu6"
      },
      "outputs": [],
      "source": [
        "# wave 2\n",
        "for course in courses:\n",
        "    second_priority = \\\n",
        "     (((df['fall_amount'] == 1) & (df['fall_2'] == course))\n",
        "    | ((df['fall_amount'] == 2) & (df['fall_3'] == course)))\n",
        "\n",
        "    c1_free = (df['course_1'] == '???')\n",
        "    c2_free = ((df['fall_amount'] == 2) & (df['course_2'] == '???') & (df['course_1'] != '???') & (df['course_1'] != course))\n",
        "\n",
        "    n1 = len(df[second_priority & c1_free])\n",
        "    n2 = len(df[second_priority & c2_free])\n",
        "\n",
        "    passes_n = min(places_left[course], n1+n2)\n",
        "    # print(len(df[second_priority]))\n",
        "    passes = df.loc[second_priority & (c1_free | c2_free), 'id'].head(passes_n)\n",
        "    df.loc[(df['id'].isin(passes) & c1_free), 'course_1'] = course\n",
        "    df.loc[(df['id'].isin(passes) & c2_free), 'course_2'] = course\n",
        "\n",
        "    places_left[course] -= passes_n\n",
        "\n",
        "# wave 3\n",
        "for course in courses:\n",
        "    third_priority = \\\n",
        "     ((df['fall_amount'] == 1) & (df['fall_3'] == course))\n",
        "\n",
        "    c1_free = (df['course_1'] == '???')\n",
        "\n",
        "    n1 = len(df[third_priority & c1_free])\n",
        "\n",
        "    passes_n = min(places_left[course], n1)\n",
        "    # print(len(df[second_priority]))\n",
        "    passes = df.loc[third_priority & (c1_free), 'id'].head(passes_n)\n",
        "    df.loc[(df['id'].isin(passes)), 'course_1'] = course\n",
        "\n",
        "    places_left[course] -= passes_n"
      ]
    },
    {
      "cell_type": "code",
      "execution_count": 2298,
      "metadata": {},
      "outputs": [],
      "source": [
        "df.loc[df['fall_amount']==1, 'course_2'] = '-'"
      ]
    },
    {
      "cell_type": "code",
      "execution_count": 2299,
      "metadata": {},
      "outputs": [
        {
          "data": {
            "text/html": [
              "<div>\n",
              "<style scoped>\n",
              "    .dataframe tbody tr th:only-of-type {\n",
              "        vertical-align: middle;\n",
              "    }\n",
              "\n",
              "    .dataframe tbody tr th {\n",
              "        vertical-align: top;\n",
              "    }\n",
              "\n",
              "    .dataframe thead th {\n",
              "        text-align: right;\n",
              "    }\n",
              "</style>\n",
              "<table border=\"1\" class=\"dataframe\">\n",
              "  <thead>\n",
              "    <tr style=\"text-align: right;\">\n",
              "      <th></th>\n",
              "      <th>id</th>\n",
              "      <th>course_1</th>\n",
              "      <th>course_2</th>\n",
              "    </tr>\n",
              "  </thead>\n",
              "  <tbody>\n",
              "    <tr>\n",
              "      <th>80</th>\n",
              "      <td>3e106aaef8b24dbb01319c73e14c2936</td>\n",
              "      <td>Безопасность компьютерных систем</td>\n",
              "      <td>-</td>\n",
              "    </tr>\n",
              "    <tr>\n",
              "      <th>231</th>\n",
              "      <td>3a7326c9e355a67d3805824ca34c4bc5</td>\n",
              "      <td>Statistical Learning Theory</td>\n",
              "      <td>Высокопроизводительные вычисления</td>\n",
              "    </tr>\n",
              "    <tr>\n",
              "      <th>91</th>\n",
              "      <td>e0ca1a9548af9a3f98428c62420aa484</td>\n",
              "      <td>Матричные вычисления</td>\n",
              "      <td>-</td>\n",
              "    </tr>\n",
              "    <tr>\n",
              "      <th>273</th>\n",
              "      <td>7fe7df0d207babbf30249b3063ac1f26</td>\n",
              "      <td>Высокопроизводительные вычисления</td>\n",
              "      <td>-</td>\n",
              "    </tr>\n",
              "    <tr>\n",
              "      <th>19</th>\n",
              "      <td>86d929f6fd741e56e93cee5900298849</td>\n",
              "      <td>Сбор и обработка данных с помощью краудсорсинга</td>\n",
              "      <td>-</td>\n",
              "    </tr>\n",
              "  </tbody>\n",
              "</table>\n",
              "</div>"
            ],
            "text/plain": [
              "                                   id   \n",
              "80   3e106aaef8b24dbb01319c73e14c2936  \\\n",
              "231  3a7326c9e355a67d3805824ca34c4bc5   \n",
              "91   e0ca1a9548af9a3f98428c62420aa484   \n",
              "273  7fe7df0d207babbf30249b3063ac1f26   \n",
              "19   86d929f6fd741e56e93cee5900298849   \n",
              "\n",
              "                                            course_1   \n",
              "80                  Безопасность компьютерных систем  \\\n",
              "231                      Statistical Learning Theory   \n",
              "91                              Матричные вычисления   \n",
              "273                Высокопроизводительные вычисления   \n",
              "19   Сбор и обработка данных с помощью краудсорсинга   \n",
              "\n",
              "                              course_2  \n",
              "80                                   -  \n",
              "231  Высокопроизводительные вычисления  \n",
              "91                                   -  \n",
              "273                                  -  \n",
              "19                                   -  "
            ]
          },
          "execution_count": 2299,
          "metadata": {},
          "output_type": "execute_result"
        }
      ],
      "source": [
        "result = df[['id', 'course_1', 'course_2']]\n",
        "result.head()"
      ]
    },
    {
      "cell_type": "code",
      "execution_count": 2300,
      "metadata": {},
      "outputs": [
        {
          "name": "stderr",
          "output_type": "stream",
          "text": [
            "/tmp/ipykernel_17205/1185339321.py:1: SettingWithCopyWarning: \n",
            "A value is trying to be set on a copy of a slice from a DataFrame\n",
            "\n",
            "See the caveats in the documentation: https://pandas.pydata.org/pandas-docs/stable/user_guide/indexing.html#returning-a-view-versus-a-copy\n",
            "  result.rename(\n"
          ]
        }
      ],
      "source": [
        "result.rename(\n",
        "    columns = {\n",
        "        'id' : 'ID',\n",
        "        'course_1' : 'course1',\n",
        "        'course_2' : 'course2',\n",
        "    },\n",
        "    inplace=True\n",
        ")"
      ]
    },
    {
      "cell_type": "code",
      "execution_count": 2301,
      "metadata": {},
      "outputs": [
        {
          "data": {
            "text/plain": [
              "(347, 3)"
            ]
          },
          "execution_count": 2301,
          "metadata": {},
          "output_type": "execute_result"
        }
      ],
      "source": [
        "result.shape"
      ]
    },
    {
      "cell_type": "code",
      "execution_count": 2302,
      "metadata": {},
      "outputs": [],
      "source": [
        "result.to_csv('res_fall.csv', index=None)"
      ]
    },
    {
      "cell_type": "markdown",
      "metadata": {
        "id": "1xQjV9BuhLu6"
      },
      "source": [
        "**Отправьте свой файл res_fall.csv в контест (будет в ближайшее время, следите за новостями) и прикрепите/укажите ниже ваш никнейм и ссылку на успешную посылку.**"
      ]
    },
    {
      "cell_type": "markdown",
      "metadata": {},
      "source": [
        "https://contest.yandex.ru/contest/68637/run-report/119767894/"
      ]
    },
    {
      "cell_type": "markdown",
      "metadata": {},
      "source": [
        "login: dkdubinin@edu.hse.ru"
      ]
    },
    {
      "cell_type": "markdown",
      "metadata": {
        "id": "QRTbPrgbhLu6"
      },
      "source": [
        "*Дисклеймер:*\n",
        "\n",
        "Успешная посылка в контесте является **обязательным** условием получения полного балла за этот (и следующий) пункт. Если добиться успешной посылки не удастся, баллы будут выставляться на усмотрение проверяюшего.\n",
        "\n",
        "При этом ОК в контесте не гарантирует полный балл. Оценка всё равно может быть снижена в случае обнаружения неэффективностей или ошибок в коде. Если вы сдадите в AnyTask очевидно неработающий код или ноутбук без кода, но при этом в контест будет сдан корректный файл, то это будет расцениваться как плагиат."
      ]
    },
    {
      "cell_type": "markdown",
      "metadata": {
        "id": "1IkQa_gdhLu6"
      },
      "source": [
        "На всякий случай просим вас сдать вместе с ноутбуком файл res_fall.csv в anytask"
      ]
    },
    {
      "cell_type": "markdown",
      "metadata": {
        "id": "k8d711qGhLu7"
      },
      "source": [
        "### 4. [1 балла] Распределите таким же образом студентов еще и на весенние курсы по выбору.\n",
        "\n",
        "Если ваш код был хорошо структурирован, то это не составит проблем.\n",
        "\n",
        "Если вы выполнили это задание, сдайте среди прочего файл res_spring.csv в таком же формате, как и res_fall.csv."
      ]
    },
    {
      "cell_type": "markdown",
      "metadata": {
        "id": "It7QQZLYhLu7"
      },
      "source": [
        "**Отправьте свой файл res_spring.csv в контест (будет в ближайшее время, следите за новостями) и прикрепите/укажите ниже ваш никнейм и ссылку на успешную посылку.**"
      ]
    },
    {
      "cell_type": "markdown",
      "metadata": {},
      "source": [
        "https://contest.yandex.ru/contest/68637/run-report/119775408/\n",
        "\n",
        "\n",
        "login: dkdubinin@edu.hse.ru"
      ]
    },
    {
      "cell_type": "markdown",
      "metadata": {
        "id": "1YcouVTihLu7"
      },
      "source": [
        "На всякий случай просим вас сдать вместе с ноутбуком файл res_spring.csv в anytask"
      ]
    },
    {
      "cell_type": "markdown",
      "metadata": {
        "id": "uY_OY6inhLu7"
      },
      "source": [
        "Вставьте картинку, описывающую ваш опыт выполнения этого задания:"
      ]
    },
    {
      "cell_type": "code",
      "execution_count": 2303,
      "metadata": {
        "id": "R9_7CnSFhLu7"
      },
      "outputs": [
        {
          "data": {
            "text/plain": [
              "{'Анализ данных в бизнесе': 60,\n",
              " 'Генеративные модели в машинном обучении': 30,\n",
              " 'Дискретная оптимизация': 30,\n",
              " 'Дополнительные главы прикладной статистики': 30,\n",
              " 'Компьютерное зрение': 30,\n",
              " 'Компьютерные сети': 30,\n",
              " 'Конфликты и кооперация': 30,\n",
              " 'Машинное обучение 2': 30,\n",
              " 'Методы сжатия и передачи медиаданных': 30,\n",
              " 'Обучение с подкреплением': 60,\n",
              " 'Проектирование и разработка высоконагруженных сервисов': 30,\n",
              " 'Промышленное программирование на языке Java': 30,\n",
              " 'Символьные вычисления': 30,\n",
              " 'Системы баз данных': 30,\n",
              " 'Численные методы': 30}"
            ]
          },
          "execution_count": 2303,
          "metadata": {},
          "output_type": "execute_result"
        }
      ],
      "source": [
        "courses = set(df['spring_1'].values.ravel()) | set(df['spring_2'].values.ravel()) | set(df['spring_3'].values.ravel())\n",
        "courses = sorted(courses)\n",
        "courses\n",
        "places_left = dict.fromkeys(courses, 30)\n",
        "places_left['Обучение с подкреплением'] = 60\n",
        "places_left['Анализ данных в бизнесе'] = 60\n",
        "places_left"
      ]
    },
    {
      "cell_type": "code",
      "execution_count": 2304,
      "metadata": {},
      "outputs": [],
      "source": [
        "df['course_1'] = '???'\n",
        "df['course_2'] = '???'"
      ]
    },
    {
      "cell_type": "code",
      "execution_count": 2305,
      "metadata": {},
      "outputs": [],
      "source": [
        "df.drop(columns=['fall_amount', 'rating', 'timestamp', 'blended', 'fall_1', 'fall_2', 'fall_3', 'day', 'best', 'worst', 'is_first_time'], inplace=True)"
      ]
    },
    {
      "cell_type": "code",
      "execution_count": 2306,
      "metadata": {},
      "outputs": [
        {
          "data": {
            "text/html": [
              "<div>\n",
              "<style scoped>\n",
              "    .dataframe tbody tr th:only-of-type {\n",
              "        vertical-align: middle;\n",
              "    }\n",
              "\n",
              "    .dataframe tbody tr th {\n",
              "        vertical-align: top;\n",
              "    }\n",
              "\n",
              "    .dataframe thead th {\n",
              "        text-align: right;\n",
              "    }\n",
              "</style>\n",
              "<table border=\"1\" class=\"dataframe\">\n",
              "  <thead>\n",
              "    <tr style=\"text-align: right;\">\n",
              "      <th></th>\n",
              "      <th>id</th>\n",
              "      <th>18_group</th>\n",
              "      <th>is_mi</th>\n",
              "      <th>spring_1</th>\n",
              "      <th>spring_2</th>\n",
              "      <th>spring_3</th>\n",
              "      <th>percentile</th>\n",
              "      <th>17_group</th>\n",
              "      <th>is_ml_student</th>\n",
              "      <th>course_1</th>\n",
              "      <th>course_2</th>\n",
              "      <th>spring_amount</th>\n",
              "    </tr>\n",
              "  </thead>\n",
              "  <tbody>\n",
              "    <tr>\n",
              "      <th>80</th>\n",
              "      <td>3e106aaef8b24dbb01319c73e14c2936</td>\n",
              "      <td>182.0</td>\n",
              "      <td>0.0</td>\n",
              "      <td>Дискретная оптимизация</td>\n",
              "      <td>Промышленное программирование на языке Java</td>\n",
              "      <td>Дополнительные главы прикладной статистики</td>\n",
              "      <td>0.000000</td>\n",
              "      <td>0.0</td>\n",
              "      <td>1.0</td>\n",
              "      <td>???</td>\n",
              "      <td>???</td>\n",
              "      <td>1</td>\n",
              "    </tr>\n",
              "    <tr>\n",
              "      <th>231</th>\n",
              "      <td>3a7326c9e355a67d3805824ca34c4bc5</td>\n",
              "      <td>0.0</td>\n",
              "      <td>0.0</td>\n",
              "      <td>Символьные вычисления</td>\n",
              "      <td>Численные методы</td>\n",
              "      <td>Символьные вычисления</td>\n",
              "      <td>0.000000</td>\n",
              "      <td>173.0</td>\n",
              "      <td>0.0</td>\n",
              "      <td>???</td>\n",
              "      <td>???</td>\n",
              "      <td>2</td>\n",
              "    </tr>\n",
              "    <tr>\n",
              "      <th>91</th>\n",
              "      <td>e0ca1a9548af9a3f98428c62420aa484</td>\n",
              "      <td>182.0</td>\n",
              "      <td>0.0</td>\n",
              "      <td>Дискретная оптимизация</td>\n",
              "      <td>Дополнительные главы прикладной статистики</td>\n",
              "      <td>Машинное обучение 2</td>\n",
              "      <td>0.004484</td>\n",
              "      <td>0.0</td>\n",
              "      <td>0.0</td>\n",
              "      <td>???</td>\n",
              "      <td>???</td>\n",
              "      <td>1</td>\n",
              "    </tr>\n",
              "    <tr>\n",
              "      <th>273</th>\n",
              "      <td>7fe7df0d207babbf30249b3063ac1f26</td>\n",
              "      <td>0.0</td>\n",
              "      <td>0.0</td>\n",
              "      <td>Проектирование и разработка высоконагруженных ...</td>\n",
              "      <td>Методы сжатия и передачи медиаданных</td>\n",
              "      <td>Методы сжатия и передачи медиаданных</td>\n",
              "      <td>0.007246</td>\n",
              "      <td>175.0</td>\n",
              "      <td>0.0</td>\n",
              "      <td>???</td>\n",
              "      <td>???</td>\n",
              "      <td>1</td>\n",
              "    </tr>\n",
              "    <tr>\n",
              "      <th>19</th>\n",
              "      <td>86d929f6fd741e56e93cee5900298849</td>\n",
              "      <td>181.0</td>\n",
              "      <td>0.0</td>\n",
              "      <td>Дополнительные главы прикладной статистики</td>\n",
              "      <td>Дополнительные главы прикладной статистики</td>\n",
              "      <td>Дополнительные главы прикладной статистики</td>\n",
              "      <td>0.008969</td>\n",
              "      <td>0.0</td>\n",
              "      <td>0.0</td>\n",
              "      <td>???</td>\n",
              "      <td>???</td>\n",
              "      <td>1</td>\n",
              "    </tr>\n",
              "  </tbody>\n",
              "</table>\n",
              "</div>"
            ],
            "text/plain": [
              "                                   id  18_group  is_mi   \n",
              "80   3e106aaef8b24dbb01319c73e14c2936     182.0    0.0  \\\n",
              "231  3a7326c9e355a67d3805824ca34c4bc5       0.0    0.0   \n",
              "91   e0ca1a9548af9a3f98428c62420aa484     182.0    0.0   \n",
              "273  7fe7df0d207babbf30249b3063ac1f26       0.0    0.0   \n",
              "19   86d929f6fd741e56e93cee5900298849     181.0    0.0   \n",
              "\n",
              "                                              spring_1   \n",
              "80                              Дискретная оптимизация  \\\n",
              "231                              Символьные вычисления   \n",
              "91                              Дискретная оптимизация   \n",
              "273  Проектирование и разработка высоконагруженных ...   \n",
              "19          Дополнительные главы прикладной статистики   \n",
              "\n",
              "                                        spring_2   \n",
              "80   Промышленное программирование на языке Java  \\\n",
              "231                             Численные методы   \n",
              "91    Дополнительные главы прикладной статистики   \n",
              "273         Методы сжатия и передачи медиаданных   \n",
              "19    Дополнительные главы прикладной статистики   \n",
              "\n",
              "                                       spring_3  percentile  17_group   \n",
              "80   Дополнительные главы прикладной статистики    0.000000       0.0  \\\n",
              "231                       Символьные вычисления    0.000000     173.0   \n",
              "91                          Машинное обучение 2    0.004484       0.0   \n",
              "273        Методы сжатия и передачи медиаданных    0.007246     175.0   \n",
              "19   Дополнительные главы прикладной статистики    0.008969       0.0   \n",
              "\n",
              "     is_ml_student course_1 course_2  spring_amount  \n",
              "80             1.0      ???      ???              1  \n",
              "231            0.0      ???      ???              2  \n",
              "91             0.0      ???      ???              1  \n",
              "273            0.0      ???      ???              1  \n",
              "19             0.0      ???      ???              1  "
            ]
          },
          "execution_count": 2306,
          "metadata": {},
          "output_type": "execute_result"
        }
      ],
      "source": [
        "base = 1\n",
        "# mo/ti -> +1\n",
        "\n",
        "additional_filter = (\n",
        "        (df['17_group'] == 171.0) \\\n",
        "      | (df['17_group'] == 172.0) \\\n",
        "      | (df['17_group'] == 173))\n",
        "\n",
        "df['spring_amount'] = base\n",
        "df.loc[additional_filter, 'spring_amount'] = base + 1\n",
        "df.head()"
      ]
    },
    {
      "cell_type": "code",
      "execution_count": 2307,
      "metadata": {},
      "outputs": [
        {
          "data": {
            "text/html": [
              "<div>\n",
              "<style scoped>\n",
              "    .dataframe tbody tr th:only-of-type {\n",
              "        vertical-align: middle;\n",
              "    }\n",
              "\n",
              "    .dataframe tbody tr th {\n",
              "        vertical-align: top;\n",
              "    }\n",
              "\n",
              "    .dataframe thead th {\n",
              "        text-align: right;\n",
              "    }\n",
              "</style>\n",
              "<table border=\"1\" class=\"dataframe\">\n",
              "  <thead>\n",
              "    <tr style=\"text-align: right;\">\n",
              "      <th></th>\n",
              "      <th>id</th>\n",
              "      <th>18_group</th>\n",
              "      <th>is_mi</th>\n",
              "      <th>spring_1</th>\n",
              "      <th>spring_2</th>\n",
              "      <th>spring_3</th>\n",
              "      <th>percentile</th>\n",
              "      <th>17_group</th>\n",
              "      <th>is_ml_student</th>\n",
              "      <th>course_1</th>\n",
              "      <th>course_2</th>\n",
              "      <th>spring_amount</th>\n",
              "    </tr>\n",
              "  </thead>\n",
              "  <tbody>\n",
              "    <tr>\n",
              "      <th>20</th>\n",
              "      <td>f0f6f3881894172a0f04e79b554b49e6</td>\n",
              "      <td>181.0</td>\n",
              "      <td>0.0</td>\n",
              "      <td>Машинное обучение 2</td>\n",
              "      <td>Численные методы</td>\n",
              "      <td>Дополнительные главы прикладной статистики</td>\n",
              "      <td>0.300448</td>\n",
              "      <td>0.0</td>\n",
              "      <td>1.0</td>\n",
              "      <td>???</td>\n",
              "      <td>???</td>\n",
              "      <td>1</td>\n",
              "    </tr>\n",
              "    <tr>\n",
              "      <th>179</th>\n",
              "      <td>abceddfa2fc4eae8cff4a4e712abb3fb</td>\n",
              "      <td>183.0</td>\n",
              "      <td>0.0</td>\n",
              "      <td>Машинное обучение 2</td>\n",
              "      <td>Промышленное программирование на языке Java</td>\n",
              "      <td>Дополнительные главы прикладной статистики</td>\n",
              "      <td>0.345291</td>\n",
              "      <td>0.0</td>\n",
              "      <td>1.0</td>\n",
              "      <td>???</td>\n",
              "      <td>???</td>\n",
              "      <td>1</td>\n",
              "    </tr>\n",
              "    <tr>\n",
              "      <th>119</th>\n",
              "      <td>fc2c60b8004aa91bc272df84628621ff</td>\n",
              "      <td>183.0</td>\n",
              "      <td>0.0</td>\n",
              "      <td>Системы баз данных</td>\n",
              "      <td>Машинное обучение 2</td>\n",
              "      <td>Анализ данных в бизнесе</td>\n",
              "      <td>0.461883</td>\n",
              "      <td>0.0</td>\n",
              "      <td>1.0</td>\n",
              "      <td>???</td>\n",
              "      <td>???</td>\n",
              "      <td>1</td>\n",
              "    </tr>\n",
              "    <tr>\n",
              "      <th>27</th>\n",
              "      <td>5daee1bd98559bb2c52373e416942225</td>\n",
              "      <td>182.0</td>\n",
              "      <td>0.0</td>\n",
              "      <td>Машинное обучение 2</td>\n",
              "      <td>Промышленное программирование на языке Java</td>\n",
              "      <td>Анализ данных в бизнесе</td>\n",
              "      <td>0.681614</td>\n",
              "      <td>0.0</td>\n",
              "      <td>1.0</td>\n",
              "      <td>???</td>\n",
              "      <td>???</td>\n",
              "      <td>1</td>\n",
              "    </tr>\n",
              "    <tr>\n",
              "      <th>137</th>\n",
              "      <td>6ed89e424179b0510e3f7c0cb7369ad6</td>\n",
              "      <td>187.0</td>\n",
              "      <td>0.0</td>\n",
              "      <td>Анализ данных в бизнесе</td>\n",
              "      <td>Промышленное программирование на языке Java</td>\n",
              "      <td>Машинное обучение 2</td>\n",
              "      <td>0.838565</td>\n",
              "      <td>0.0</td>\n",
              "      <td>1.0</td>\n",
              "      <td>???</td>\n",
              "      <td>???</td>\n",
              "      <td>1</td>\n",
              "    </tr>\n",
              "  </tbody>\n",
              "</table>\n",
              "</div>"
            ],
            "text/plain": [
              "                                   id  18_group  is_mi   \n",
              "20   f0f6f3881894172a0f04e79b554b49e6     181.0    0.0  \\\n",
              "179  abceddfa2fc4eae8cff4a4e712abb3fb     183.0    0.0   \n",
              "119  fc2c60b8004aa91bc272df84628621ff     183.0    0.0   \n",
              "27   5daee1bd98559bb2c52373e416942225     182.0    0.0   \n",
              "137  6ed89e424179b0510e3f7c0cb7369ad6     187.0    0.0   \n",
              "\n",
              "                    spring_1                                     spring_2   \n",
              "20       Машинное обучение 2                             Численные методы  \\\n",
              "179      Машинное обучение 2  Промышленное программирование на языке Java   \n",
              "119       Системы баз данных                          Машинное обучение 2   \n",
              "27       Машинное обучение 2  Промышленное программирование на языке Java   \n",
              "137  Анализ данных в бизнесе  Промышленное программирование на языке Java   \n",
              "\n",
              "                                       spring_3  percentile  17_group   \n",
              "20   Дополнительные главы прикладной статистики    0.300448       0.0  \\\n",
              "179  Дополнительные главы прикладной статистики    0.345291       0.0   \n",
              "119                     Анализ данных в бизнесе    0.461883       0.0   \n",
              "27                      Анализ данных в бизнесе    0.681614       0.0   \n",
              "137                         Машинное обучение 2    0.838565       0.0   \n",
              "\n",
              "     is_ml_student course_1 course_2  spring_amount  \n",
              "20             1.0      ???      ???              1  \n",
              "179            1.0      ???      ???              1  \n",
              "119            1.0      ???      ???              1  \n",
              "27             1.0      ???      ???              1  \n",
              "137            1.0      ???      ???              1  "
            ]
          },
          "execution_count": 2307,
          "metadata": {},
          "output_type": "execute_result"
        }
      ],
      "source": [
        "mo2 = 'Машинное обучение 2'\n",
        "is_ml = (df['is_ml_student'] == 1)\n",
        "df.loc[ is_ml \\\n",
        " & ((df['spring_1'] == mo2) \\\n",
        " |  (df['spring_2'] == mo2) \\\n",
        " |  (df['spring_3'] == mo2))]"
      ]
    },
    {
      "cell_type": "code",
      "execution_count": 2308,
      "metadata": {},
      "outputs": [],
      "source": [
        "spring1 = df.loc[is_ml & (df['spring_1'] == mo2)]\n",
        "df.loc[df['id'].isin(spring1['id']), 'spring_1'] = spring1['spring_2']\n",
        "df.loc[df['id'].isin(spring1['id']), 'spring_2'] = spring1['spring_3']\n",
        "df.loc[df['id'].isin(spring1['id']), 'spring_3'] = '-'\n",
        "\n",
        "\n",
        "\n",
        "spring2 = df.loc[is_ml & (df['spring_2'] == mo2)]\n",
        "df.loc[df['id'].isin(spring2['id']), 'spring_2'] = spring1['spring_3']\n",
        "df.loc[df['id'].isin(spring2['id']), 'spring_3'] = '-'\n",
        "\n",
        "\n",
        "\n",
        "spring3 = df.loc[is_ml & (df['spring_3'] == mo2)]\n",
        "df.loc[df['id'].isin(spring3['id']), 'spring_3'] = '-'"
      ]
    },
    {
      "cell_type": "code",
      "execution_count": 2309,
      "metadata": {},
      "outputs": [
        {
          "data": {
            "text/html": [
              "<div>\n",
              "<style scoped>\n",
              "    .dataframe tbody tr th:only-of-type {\n",
              "        vertical-align: middle;\n",
              "    }\n",
              "\n",
              "    .dataframe tbody tr th {\n",
              "        vertical-align: top;\n",
              "    }\n",
              "\n",
              "    .dataframe thead th {\n",
              "        text-align: right;\n",
              "    }\n",
              "</style>\n",
              "<table border=\"1\" class=\"dataframe\">\n",
              "  <thead>\n",
              "    <tr style=\"text-align: right;\">\n",
              "      <th></th>\n",
              "      <th>id</th>\n",
              "      <th>18_group</th>\n",
              "      <th>is_mi</th>\n",
              "      <th>spring_1</th>\n",
              "      <th>spring_2</th>\n",
              "      <th>spring_3</th>\n",
              "      <th>percentile</th>\n",
              "      <th>17_group</th>\n",
              "      <th>is_ml_student</th>\n",
              "      <th>course_1</th>\n",
              "      <th>course_2</th>\n",
              "      <th>spring_amount</th>\n",
              "    </tr>\n",
              "  </thead>\n",
              "  <tbody>\n",
              "    <tr>\n",
              "      <th>20</th>\n",
              "      <td>f0f6f3881894172a0f04e79b554b49e6</td>\n",
              "      <td>181.0</td>\n",
              "      <td>0.0</td>\n",
              "      <td>Численные методы</td>\n",
              "      <td>Дополнительные главы прикладной статистики</td>\n",
              "      <td>-</td>\n",
              "      <td>0.300448</td>\n",
              "      <td>0.0</td>\n",
              "      <td>1.0</td>\n",
              "      <td>???</td>\n",
              "      <td>???</td>\n",
              "      <td>1</td>\n",
              "    </tr>\n",
              "    <tr>\n",
              "      <th>179</th>\n",
              "      <td>abceddfa2fc4eae8cff4a4e712abb3fb</td>\n",
              "      <td>183.0</td>\n",
              "      <td>0.0</td>\n",
              "      <td>Промышленное программирование на языке Java</td>\n",
              "      <td>Дополнительные главы прикладной статистики</td>\n",
              "      <td>-</td>\n",
              "      <td>0.345291</td>\n",
              "      <td>0.0</td>\n",
              "      <td>1.0</td>\n",
              "      <td>???</td>\n",
              "      <td>???</td>\n",
              "      <td>1</td>\n",
              "    </tr>\n",
              "    <tr>\n",
              "      <th>119</th>\n",
              "      <td>fc2c60b8004aa91bc272df84628621ff</td>\n",
              "      <td>183.0</td>\n",
              "      <td>0.0</td>\n",
              "      <td>Системы баз данных</td>\n",
              "      <td>NaN</td>\n",
              "      <td>-</td>\n",
              "      <td>0.461883</td>\n",
              "      <td>0.0</td>\n",
              "      <td>1.0</td>\n",
              "      <td>???</td>\n",
              "      <td>???</td>\n",
              "      <td>1</td>\n",
              "    </tr>\n",
              "    <tr>\n",
              "      <th>27</th>\n",
              "      <td>5daee1bd98559bb2c52373e416942225</td>\n",
              "      <td>182.0</td>\n",
              "      <td>0.0</td>\n",
              "      <td>Промышленное программирование на языке Java</td>\n",
              "      <td>Анализ данных в бизнесе</td>\n",
              "      <td>-</td>\n",
              "      <td>0.681614</td>\n",
              "      <td>0.0</td>\n",
              "      <td>1.0</td>\n",
              "      <td>???</td>\n",
              "      <td>???</td>\n",
              "      <td>1</td>\n",
              "    </tr>\n",
              "    <tr>\n",
              "      <th>137</th>\n",
              "      <td>6ed89e424179b0510e3f7c0cb7369ad6</td>\n",
              "      <td>187.0</td>\n",
              "      <td>0.0</td>\n",
              "      <td>Анализ данных в бизнесе</td>\n",
              "      <td>Промышленное программирование на языке Java</td>\n",
              "      <td>-</td>\n",
              "      <td>0.838565</td>\n",
              "      <td>0.0</td>\n",
              "      <td>1.0</td>\n",
              "      <td>???</td>\n",
              "      <td>???</td>\n",
              "      <td>1</td>\n",
              "    </tr>\n",
              "  </tbody>\n",
              "</table>\n",
              "</div>"
            ],
            "text/plain": [
              "                                   id  18_group  is_mi   \n",
              "20   f0f6f3881894172a0f04e79b554b49e6     181.0    0.0  \\\n",
              "179  abceddfa2fc4eae8cff4a4e712abb3fb     183.0    0.0   \n",
              "119  fc2c60b8004aa91bc272df84628621ff     183.0    0.0   \n",
              "27   5daee1bd98559bb2c52373e416942225     182.0    0.0   \n",
              "137  6ed89e424179b0510e3f7c0cb7369ad6     187.0    0.0   \n",
              "\n",
              "                                        spring_1   \n",
              "20                              Численные методы  \\\n",
              "179  Промышленное программирование на языке Java   \n",
              "119                           Системы баз данных   \n",
              "27   Промышленное программирование на языке Java   \n",
              "137                      Анализ данных в бизнесе   \n",
              "\n",
              "                                        spring_2 spring_3  percentile   \n",
              "20    Дополнительные главы прикладной статистики        -    0.300448  \\\n",
              "179   Дополнительные главы прикладной статистики        -    0.345291   \n",
              "119                                          NaN        -    0.461883   \n",
              "27                       Анализ данных в бизнесе        -    0.681614   \n",
              "137  Промышленное программирование на языке Java        -    0.838565   \n",
              "\n",
              "     17_group  is_ml_student course_1 course_2  spring_amount  \n",
              "20        0.0            1.0      ???      ???              1  \n",
              "179       0.0            1.0      ???      ???              1  \n",
              "119       0.0            1.0      ???      ???              1  \n",
              "27        0.0            1.0      ???      ???              1  \n",
              "137       0.0            1.0      ???      ???              1  "
            ]
          },
          "execution_count": 2309,
          "metadata": {},
          "output_type": "execute_result"
        }
      ],
      "source": [
        "df.loc[ is_ml \\\n",
        " & ((df['spring_1'] == mo2) \\\n",
        " |  (df['spring_2'] == mo2) \\\n",
        " |  (df['spring_3'] == '-'))]"
      ]
    },
    {
      "cell_type": "code",
      "execution_count": 2310,
      "metadata": {},
      "outputs": [],
      "source": [
        "# wave 1\n",
        "for course in courses:\n",
        "    first_priority = \\\n",
        "      ((df['spring_1'] == course) \n",
        "    | ((df['spring_amount'] == 2) & (df['spring_2'] == course)))\n",
        "\n",
        "    c1_free = (df['course_1'] == '???')\n",
        "    c2_free = ((df['spring_amount'] == 2) & (df['course_2'] == '???') & (df['course_1'] != '???'))\n",
        "\n",
        "    n1 = len(df[first_priority & c1_free])\n",
        "    n2 = len(df[first_priority & c2_free])\n",
        "\n",
        "    passes_n = min(places_left[course], n1+n2)\n",
        "    passes = df.loc[first_priority & (c1_free | c2_free), 'id'].head(passes_n)\n",
        "    df.loc[(df['id'].isin(passes) & c1_free), 'course_1'] = course\n",
        "    df.loc[(df['id'].isin(passes) & c2_free), 'course_2'] = course\n",
        "\n",
        "    places_left[course] -= passes_n\n",
        "\n",
        "\n",
        "# wave 2\n",
        "for course in courses:\n",
        "    second_priority = \\\n",
        "     (((df['spring_amount'] == 1) & (df['spring_2'] == course))\n",
        "    | ((df['spring_amount'] == 2) & (df['spring_3'] == course)))\n",
        "\n",
        "    c1_free = (df['course_1'] == '???')\n",
        "    c2_free = ((df['spring_amount'] == 2) & (df['course_2'] == '???') & (df['course_1'] != '???') & (df['course_1'] != course))\n",
        "\n",
        "    n1 = len(df[second_priority & c1_free])\n",
        "    n2 = len(df[second_priority & c2_free])\n",
        "\n",
        "    passes_n = min(places_left[course], n1+n2)\n",
        "    # print(len(df[second_priority]))\n",
        "    passes = df.loc[second_priority & (c1_free | c2_free), 'id'].head(passes_n)\n",
        "    df.loc[(df['id'].isin(passes) & c1_free), 'course_1'] = course\n",
        "    df.loc[(df['id'].isin(passes) & c2_free), 'course_2'] = course\n",
        "\n",
        "    places_left[course] -= passes_n\n",
        "  \n",
        "# wave 3\n",
        "for course in courses:\n",
        "    third_priority = \\\n",
        "     ((df['spring_amount'] == 1) & (df['spring_3'] == course))\n",
        "\n",
        "    c1_free = (df['course_1'] == '???')\n",
        "\n",
        "    n1 = len(df[third_priority & c1_free])\n",
        "\n",
        "    passes_n = min(places_left[course], n1)\n",
        "    # print(len(df[second_priority]))\n",
        "    passes = df.loc[third_priority & (c1_free), 'id'].head(passes_n)\n",
        "    df.loc[(df['id'].isin(passes)), 'course_1'] = course\n",
        "\n",
        "    places_left[course] -= passes_n"
      ]
    },
    {
      "cell_type": "code",
      "execution_count": 2311,
      "metadata": {},
      "outputs": [
        {
          "data": {
            "text/html": [
              "<div>\n",
              "<style scoped>\n",
              "    .dataframe tbody tr th:only-of-type {\n",
              "        vertical-align: middle;\n",
              "    }\n",
              "\n",
              "    .dataframe tbody tr th {\n",
              "        vertical-align: top;\n",
              "    }\n",
              "\n",
              "    .dataframe thead th {\n",
              "        text-align: right;\n",
              "    }\n",
              "</style>\n",
              "<table border=\"1\" class=\"dataframe\">\n",
              "  <thead>\n",
              "    <tr style=\"text-align: right;\">\n",
              "      <th></th>\n",
              "      <th>id</th>\n",
              "      <th>18_group</th>\n",
              "      <th>is_mi</th>\n",
              "      <th>spring_1</th>\n",
              "      <th>spring_2</th>\n",
              "      <th>spring_3</th>\n",
              "      <th>percentile</th>\n",
              "      <th>17_group</th>\n",
              "      <th>is_ml_student</th>\n",
              "      <th>course_1</th>\n",
              "      <th>course_2</th>\n",
              "      <th>spring_amount</th>\n",
              "    </tr>\n",
              "  </thead>\n",
              "  <tbody>\n",
              "    <tr>\n",
              "      <th>203</th>\n",
              "      <td>6a93b58f867db41e822a03c26c1bd428</td>\n",
              "      <td>188.0</td>\n",
              "      <td>0.0</td>\n",
              "      <td>Системы баз данных</td>\n",
              "      <td>Численные методы</td>\n",
              "      <td>Анализ данных в бизнесе</td>\n",
              "      <td>0.753363</td>\n",
              "      <td>0.0</td>\n",
              "      <td>0.0</td>\n",
              "      <td>Системы баз данных</td>\n",
              "      <td>???</td>\n",
              "      <td>1</td>\n",
              "    </tr>\n",
              "    <tr>\n",
              "      <th>93</th>\n",
              "      <td>1f63fc485d851236249263b91dc03d6b</td>\n",
              "      <td>181.0</td>\n",
              "      <td>0.0</td>\n",
              "      <td>Дискретная оптимизация</td>\n",
              "      <td>Дополнительные главы прикладной статистики</td>\n",
              "      <td>Промышленное программирование на языке Java</td>\n",
              "      <td>0.031390</td>\n",
              "      <td>0.0</td>\n",
              "      <td>1.0</td>\n",
              "      <td>Дискретная оптимизация</td>\n",
              "      <td>???</td>\n",
              "      <td>1</td>\n",
              "    </tr>\n",
              "    <tr>\n",
              "      <th>301</th>\n",
              "      <td>573e2218c3fe3ffc1894edc12432d315</td>\n",
              "      <td>0.0</td>\n",
              "      <td>0.0</td>\n",
              "      <td>Обучение с подкреплением</td>\n",
              "      <td>Конфликты и кооперация</td>\n",
              "      <td>Компьютерное зрение</td>\n",
              "      <td>0.586957</td>\n",
              "      <td>172.0</td>\n",
              "      <td>0.0</td>\n",
              "      <td>Конфликты и кооперация</td>\n",
              "      <td>Обучение с подкреплением</td>\n",
              "      <td>2</td>\n",
              "    </tr>\n",
              "    <tr>\n",
              "      <th>264</th>\n",
              "      <td>c1e88502b6673d22c38ee1352e3a1dd9</td>\n",
              "      <td>0.0</td>\n",
              "      <td>0.0</td>\n",
              "      <td>Обучение с подкреплением</td>\n",
              "      <td>Компьютерное зрение</td>\n",
              "      <td>Генеративные модели в машинном обучении</td>\n",
              "      <td>0.971014</td>\n",
              "      <td>172.0</td>\n",
              "      <td>0.0</td>\n",
              "      <td>Компьютерное зрение</td>\n",
              "      <td>Обучение с подкреплением</td>\n",
              "      <td>2</td>\n",
              "    </tr>\n",
              "    <tr>\n",
              "      <th>283</th>\n",
              "      <td>0d85933f07516e8871e9415c1d95ddbe</td>\n",
              "      <td>0.0</td>\n",
              "      <td>0.0</td>\n",
              "      <td>Методы сжатия и передачи медиаданных</td>\n",
              "      <td>Проектирование и разработка высоконагруженных ...</td>\n",
              "      <td>Методы сжатия и передачи медиаданных</td>\n",
              "      <td>0.318841</td>\n",
              "      <td>175.0</td>\n",
              "      <td>0.0</td>\n",
              "      <td>Методы сжатия и передачи медиаданных</td>\n",
              "      <td>???</td>\n",
              "      <td>1</td>\n",
              "    </tr>\n",
              "    <tr>\n",
              "      <th>106</th>\n",
              "      <td>cc8e710c871ae8236b8b8705e6840793</td>\n",
              "      <td>185.0</td>\n",
              "      <td>0.0</td>\n",
              "      <td>Компьютерные сети</td>\n",
              "      <td>Анализ данных в бизнесе</td>\n",
              "      <td>Машинное обучение 2</td>\n",
              "      <td>0.834081</td>\n",
              "      <td>0.0</td>\n",
              "      <td>0.0</td>\n",
              "      <td>Анализ данных в бизнесе</td>\n",
              "      <td>???</td>\n",
              "      <td>1</td>\n",
              "    </tr>\n",
              "    <tr>\n",
              "      <th>67</th>\n",
              "      <td>348562c4a55053de25fdd4389b9f1181</td>\n",
              "      <td>186.0</td>\n",
              "      <td>0.0</td>\n",
              "      <td>Компьютерные сети</td>\n",
              "      <td>Дополнительные главы прикладной статистики</td>\n",
              "      <td>Системы баз данных</td>\n",
              "      <td>0.412556</td>\n",
              "      <td>0.0</td>\n",
              "      <td>1.0</td>\n",
              "      <td>Компьютерные сети</td>\n",
              "      <td>???</td>\n",
              "      <td>1</td>\n",
              "    </tr>\n",
              "    <tr>\n",
              "      <th>354</th>\n",
              "      <td>98c5a2548d93f26bd4195466e93178b3</td>\n",
              "      <td>0.0</td>\n",
              "      <td>0.0</td>\n",
              "      <td>Обучение с подкреплением</td>\n",
              "      <td>Генеративные модели в машинном обучении</td>\n",
              "      <td>Методы сжатия и передачи медиаданных</td>\n",
              "      <td>0.905797</td>\n",
              "      <td>171.0</td>\n",
              "      <td>0.0</td>\n",
              "      <td>Генеративные модели в машинном обучении</td>\n",
              "      <td>Обучение с подкреплением</td>\n",
              "      <td>2</td>\n",
              "    </tr>\n",
              "    <tr>\n",
              "      <th>237</th>\n",
              "      <td>e242616383e4cb90672c3dbcf146bf3b</td>\n",
              "      <td>0.0</td>\n",
              "      <td>0.0</td>\n",
              "      <td>Проектирование и разработка высоконагруженных ...</td>\n",
              "      <td>Методы сжатия и передачи медиаданных</td>\n",
              "      <td>Компьютерное зрение</td>\n",
              "      <td>0.115942</td>\n",
              "      <td>176.0</td>\n",
              "      <td>0.0</td>\n",
              "      <td>Проектирование и разработка высоконагруженных ...</td>\n",
              "      <td>???</td>\n",
              "      <td>1</td>\n",
              "    </tr>\n",
              "    <tr>\n",
              "      <th>288</th>\n",
              "      <td>1da702d51a0a1829bb1bc33011aec5f0</td>\n",
              "      <td>0.0</td>\n",
              "      <td>0.0</td>\n",
              "      <td>Проектирование и разработка высоконагруженных ...</td>\n",
              "      <td>Компьютерное зрение</td>\n",
              "      <td>Символьные вычисления</td>\n",
              "      <td>0.521739</td>\n",
              "      <td>173.0</td>\n",
              "      <td>0.0</td>\n",
              "      <td>Компьютерное зрение</td>\n",
              "      <td>Проектирование и разработка высоконагруженных ...</td>\n",
              "      <td>2</td>\n",
              "    </tr>\n",
              "  </tbody>\n",
              "</table>\n",
              "</div>"
            ],
            "text/plain": [
              "                                   id  18_group  is_mi   \n",
              "203  6a93b58f867db41e822a03c26c1bd428     188.0    0.0  \\\n",
              "93   1f63fc485d851236249263b91dc03d6b     181.0    0.0   \n",
              "301  573e2218c3fe3ffc1894edc12432d315       0.0    0.0   \n",
              "264  c1e88502b6673d22c38ee1352e3a1dd9       0.0    0.0   \n",
              "283  0d85933f07516e8871e9415c1d95ddbe       0.0    0.0   \n",
              "106  cc8e710c871ae8236b8b8705e6840793     185.0    0.0   \n",
              "67   348562c4a55053de25fdd4389b9f1181     186.0    0.0   \n",
              "354  98c5a2548d93f26bd4195466e93178b3       0.0    0.0   \n",
              "237  e242616383e4cb90672c3dbcf146bf3b       0.0    0.0   \n",
              "288  1da702d51a0a1829bb1bc33011aec5f0       0.0    0.0   \n",
              "\n",
              "                                              spring_1   \n",
              "203                                 Системы баз данных  \\\n",
              "93                              Дискретная оптимизация   \n",
              "301                           Обучение с подкреплением   \n",
              "264                           Обучение с подкреплением   \n",
              "283               Методы сжатия и передачи медиаданных   \n",
              "106                                  Компьютерные сети   \n",
              "67                                   Компьютерные сети   \n",
              "354                           Обучение с подкреплением   \n",
              "237  Проектирование и разработка высоконагруженных ...   \n",
              "288  Проектирование и разработка высоконагруженных ...   \n",
              "\n",
              "                                              spring_2   \n",
              "203                                   Численные методы  \\\n",
              "93          Дополнительные главы прикладной статистики   \n",
              "301                             Конфликты и кооперация   \n",
              "264                                Компьютерное зрение   \n",
              "283  Проектирование и разработка высоконагруженных ...   \n",
              "106                            Анализ данных в бизнесе   \n",
              "67          Дополнительные главы прикладной статистики   \n",
              "354            Генеративные модели в машинном обучении   \n",
              "237               Методы сжатия и передачи медиаданных   \n",
              "288                                Компьютерное зрение   \n",
              "\n",
              "                                        spring_3  percentile  17_group   \n",
              "203                      Анализ данных в бизнесе    0.753363       0.0  \\\n",
              "93   Промышленное программирование на языке Java    0.031390       0.0   \n",
              "301                          Компьютерное зрение    0.586957     172.0   \n",
              "264      Генеративные модели в машинном обучении    0.971014     172.0   \n",
              "283         Методы сжатия и передачи медиаданных    0.318841     175.0   \n",
              "106                          Машинное обучение 2    0.834081       0.0   \n",
              "67                            Системы баз данных    0.412556       0.0   \n",
              "354         Методы сжатия и передачи медиаданных    0.905797     171.0   \n",
              "237                          Компьютерное зрение    0.115942     176.0   \n",
              "288                        Символьные вычисления    0.521739     173.0   \n",
              "\n",
              "     is_ml_student                                           course_1   \n",
              "203            0.0                                 Системы баз данных  \\\n",
              "93             1.0                             Дискретная оптимизация   \n",
              "301            0.0                             Конфликты и кооперация   \n",
              "264            0.0                                Компьютерное зрение   \n",
              "283            0.0               Методы сжатия и передачи медиаданных   \n",
              "106            0.0                            Анализ данных в бизнесе   \n",
              "67             1.0                                  Компьютерные сети   \n",
              "354            0.0            Генеративные модели в машинном обучении   \n",
              "237            0.0  Проектирование и разработка высоконагруженных ...   \n",
              "288            0.0                                Компьютерное зрение   \n",
              "\n",
              "                                              course_2  spring_amount  \n",
              "203                                                ???              1  \n",
              "93                                                 ???              1  \n",
              "301                           Обучение с подкреплением              2  \n",
              "264                           Обучение с подкреплением              2  \n",
              "283                                                ???              1  \n",
              "106                                                ???              1  \n",
              "67                                                 ???              1  \n",
              "354                           Обучение с подкреплением              2  \n",
              "237                                                ???              1  \n",
              "288  Проектирование и разработка высоконагруженных ...              2  "
            ]
          },
          "execution_count": 2311,
          "metadata": {},
          "output_type": "execute_result"
        }
      ],
      "source": [
        "df.sample(10)"
      ]
    },
    {
      "cell_type": "code",
      "execution_count": 2312,
      "metadata": {},
      "outputs": [
        {
          "data": {
            "text/plain": [
              "course_1\n",
              "Анализ данных в бизнесе                                   32\n",
              "Дискретная оптимизация                                    30\n",
              "Промышленное программирование на языке Java               30\n",
              "Компьютерные сети                                         30\n",
              "Машинное обучение 2                                       30\n",
              "Методы сжатия и передачи медиаданных                      27\n",
              "Компьютерное зрение                                       24\n",
              "Проектирование и разработка высоконагруженных сервисов    21\n",
              "Обучение с подкреплением                                  20\n",
              "Конфликты и кооперация                                    20\n",
              "???                                                       19\n",
              "Системы баз данных                                        17\n",
              "Генеративные модели в машинном обучении                   16\n",
              "Дополнительные главы прикладной статистики                15\n",
              "Численные методы                                          14\n",
              "Символьные вычисления                                      2\n",
              "Name: count, dtype: int64"
            ]
          },
          "execution_count": 2312,
          "metadata": {},
          "output_type": "execute_result"
        }
      ],
      "source": [
        "df['course_1'].value_counts()"
      ]
    },
    {
      "cell_type": "code",
      "execution_count": 2313,
      "metadata": {},
      "outputs": [],
      "source": [
        "df.loc[df['spring_amount']==1, 'course_2'] = '-'"
      ]
    },
    {
      "cell_type": "code",
      "execution_count": 2314,
      "metadata": {},
      "outputs": [
        {
          "name": "stderr",
          "output_type": "stream",
          "text": [
            "/tmp/ipykernel_17205/2668601831.py:3: SettingWithCopyWarning: \n",
            "A value is trying to be set on a copy of a slice from a DataFrame\n",
            "\n",
            "See the caveats in the documentation: https://pandas.pydata.org/pandas-docs/stable/user_guide/indexing.html#returning-a-view-versus-a-copy\n",
            "  result.rename(\n"
          ]
        }
      ],
      "source": [
        "result = df[['id', 'course_1', 'course_2']]\n",
        "\n",
        "result.rename(\n",
        "    columns = {\n",
        "        'id' : 'ID',\n",
        "        'course_1' : 'course1',\n",
        "        'course_2' : 'course2',\n",
        "    },\n",
        "    inplace=True\n",
        ")\n",
        "result.to_csv('res_spring.csv', index=None)"
      ]
    }
  ],
  "metadata": {
    "colab": {
      "provenance": []
    },
    "kernelspec": {
      "display_name": "Python 3 (ipykernel)",
      "language": "python",
      "name": "python3"
    },
    "language_info": {
      "codemirror_mode": {
        "name": "ipython",
        "version": 3
      },
      "file_extension": ".py",
      "mimetype": "text/x-python",
      "name": "python",
      "nbconvert_exporter": "python",
      "pygments_lexer": "ipython3",
      "version": "3.10.12"
    },
    "varInspector": {
      "cols": {
        "lenName": 16,
        "lenType": 16,
        "lenVar": 40
      },
      "kernels_config": {
        "python": {
          "delete_cmd_postfix": "",
          "delete_cmd_prefix": "del ",
          "library": "var_list.py",
          "varRefreshCmd": "print(var_dic_list())"
        },
        "r": {
          "delete_cmd_postfix": ") ",
          "delete_cmd_prefix": "rm(",
          "library": "var_list.r",
          "varRefreshCmd": "cat(var_dic_list()) "
        }
      },
      "types_to_exclude": [
        "module",
        "function",
        "builtin_function_or_method",
        "instance",
        "_Feature"
      ],
      "window_display": false
    },
    "vscode": {
      "interpreter": {
        "hash": "e7370f93d1d0cde622a1f8e1c04877d8463912d04d973331ad4851f04de6915a"
      }
    }
  },
  "nbformat": 4,
  "nbformat_minor": 0
}
